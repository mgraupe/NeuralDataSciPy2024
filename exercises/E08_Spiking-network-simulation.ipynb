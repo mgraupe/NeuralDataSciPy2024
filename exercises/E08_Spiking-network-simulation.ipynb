{
 "cells": [
  {
   "cell_type": "markdown",
   "id": "b3e8efba",
   "metadata": {},
   "source": [
    "# E08 Spiking neural networks\n",
    "\n",
    "In this week's homework, we are going to use the code from the tutorial and look at the effect of changes in its parameters in a more systematic way.\n",
    "\n",
    "*Places where code is needed are marked with **TODO** comments*"
   ]
  },
  {
   "cell_type": "code",
   "execution_count": null,
   "id": "e6f9a3b2",
   "metadata": {},
   "outputs": [],
   "source": [
    "# Import Brian and switch off its \"code generation\" facility\n",
    "from brian2 import *\n",
    "prefs.codegen.target = 'numpy'\n",
    "import numpy as np\n",
    "import matplotlib.pyplot as plt"
   ]
  },
  {
   "cell_type": "code",
   "execution_count": null,
   "id": "ca7fee52",
   "metadata": {},
   "outputs": [],
   "source": [
    "# This code is slightly adapted from the tutorial (slightly different names for parameters, and returns spike count)\n",
    "# See the comments in the tutorial code for more details\n",
    "def run_sim(input_rate, g, N_E=2000):\n",
    "    start_scope()\n",
    "    # network parameters\n",
    "    gamma = 0.25\n",
    "    N_I = int(gamma * N_E)\n",
    "    N = N_E + N_I\n",
    "    epsilon = 0.1\n",
    "    C_E = C_ext = int(epsilon * N_E)\n",
    "    C_I = int(epsilon * N_I)\n",
    "\n",
    "    # neuron parameters\n",
    "    tau = 20 * ms; theta = 20 * mV; V_r = 10 * mV; tau_rp = 2 * ms\n",
    "\n",
    "    # synapse parameters\n",
    "    J = 0.1 * mV; D = 1.5 * ms\n",
    "\n",
    "    # external stimulus\n",
    "    nu_thr = theta / (J * C_E * tau)\n",
    "\n",
    "    neurons = NeuronGroup(N,\"dv/dt = -v/tau : volt (unless refractory)\",\n",
    "                          threshold=\"v > theta\", reset=\"v = V_r\",\n",
    "                          refractory=tau_rp, method=\"exact\")\n",
    "\n",
    "    exc_neurons = neurons[:N_E]\n",
    "    inh_neurons = neurons[N_E:]\n",
    "    exc_synapses = Synapses(exc_neurons, neurons, on_pre=\"v += J\", delay=D)\n",
    "    exc_synapses.connect(i='k for k in sample(N_E, size=C_E)')\n",
    "    inhib_synapses = Synapses(inh_neurons, neurons, on_pre=\"v += -g*J\", delay=D)\n",
    "    inhib_synapses.connect(i='k for k in sample(N_I, size=C_I)')\n",
    "\n",
    "    nu_ext = input_rate * nu_thr\n",
    "    external_poisson_input = PoissonInput(target=neurons, target_var=\"v\",\n",
    "                                          N=C_ext, rate=nu_ext, weight=J)\n",
    "\n",
    "    rate_monitor = PopulationRateMonitor(neurons)\n",
    "    exc_monitor = SpikeMonitor(exc_neurons)  # record excitatory neurons\n",
    "    state_monitor = StateMonitor(exc_neurons, 'v', record=0)  # record membrane potential of one neuron\n",
    "    run(0.5*second)\n",
    "    \n",
    "    return {'exc_spikes_t': exc_monitor.t, 'exc_spikes_i': exc_monitor.i, 'exc_spikes_count': exc_monitor.count}"
   ]
  },
  {
   "cell_type": "markdown",
   "id": "f4c9484e",
   "metadata": {},
   "source": [
    "In our model, each of the neurons in the network receives input via a `PoissonInput`. This models the summed effect of many neurons providing excitatory input to the cell, each spiking randomly according to a Poisson process. This is more efficient than actually simulating each of the external input cells and their synapses individually. \n",
    "The `input_rate` parameter that we provide to the `run_sim` function determines the *firing rate* of these external input neurons (as a value relative to the rate that is necessary to have an average input current that drives the neuron to its threshold), i.e. higher values means that each neuron in the network gets stronger external input.\n",
    "\n",
    "## Question: how does the network activity depend on the input rate and the strength of the inhibition?\n",
    "\n",
    "To answer this question, we will first simulate the network several times, with different values for the external input rate `input_rate` and for the strength of the inhibitory synapses `g`. For each parameter combination below, store the *mean firing* rate of the excitatory neurons in the `firing_rate` matrix, and the *standard deviation of the firing rates* across excitatory neurons in the `firing_rate_stddev` matrix.\n",
    "\n",
    "**Hints**:\n",
    "  * The `results` dictionary returned by `run_sim`, contains an entry `exc_spikes_count` with an array containing the total number of spikes for each neuron.\n",
    "  * Each simulation runs for 0.5s"
   ]
  },
  {
   "cell_type": "code",
   "execution_count": null,
   "id": "b21349d3",
   "metadata": {},
   "outputs": [],
   "source": [
    "# Parameters that we are varying\n",
    "g_values = [0, 2, 4, 6, 8]\n",
    "input_rate_values = [1, 2, 3]\n",
    "\n",
    "# Empty matrices of the appropriate size\n",
    "firing_rate = np.empty((len(input_rate_values), len(g_values)))\n",
    "firing_rate_stddev = np.empty((len(input_rate_values), len(g_values)))\n",
    "\n",
    "print('Running')\n",
    "for input_rate_index, input_rate_value in enumerate(input_rate_values):\n",
    "    for g_index, g_value in enumerate(g_values):\n",
    "        results = run_sim(input_rate_value, g_value)\n",
    "        # Calculate firing rates\n",
    "\n",
    "        # TODO <-- your code here\n",
    "        \n",
    "        # Store mean firing rate in `firing_rate`\n",
    "        firing_rate[input_rate_index, g_index] = 0  # TODO <-- replace with your code\n",
    "        \n",
    "        # Store standard deviation of firing rates\n",
    "        firing_rate_stddev[input_rate_index, g_index] = 0  # TODO <-- replace with your code\n",
    "        print('.', end='')  # Print a dot to show progress\n",
    "print('\\nFinished')"
   ]
  },
  {
   "cell_type": "markdown",
   "id": "cf3e983e",
   "metadata": {},
   "source": [
    "We will now plot the mean firing rate and its standard deviation over neurons as a function of the external input rate, separately for the different strengths of inhibition.\n",
    "\n",
    "**Hints**:\n",
    "  * Use `plt.errorbar` to plot lines (for the mean firing rate) with error bars (for the standard deviation). The syntax is `plt.errorbar(x_values, y_values, error_values)`\n",
    "  * If you add `label=f'g = {g_value}'` to the `plt.errorbar` call, the legend shows the strength of the inhibition in the label\n",
    "  * Note that the error bars will most likely be very small and therefore almost invisible."
   ]
  },
  {
   "cell_type": "code",
   "execution_count": null,
   "id": "d7a17408",
   "metadata": {},
   "outputs": [],
   "source": [
    "for g_index, g_value in enumerate(g_values):\n",
    "    \n",
    "    # TODO <-- your code here\n",
    "    \n",
    "    plt.legend()\n",
    "    plt.ylabel('mean firing rate (spikes/second)')\n",
    "    plt.xlabel('input strength');"
   ]
  },
  {
   "cell_type": "markdown",
   "id": "bc5647d9-318a-4bd9-b2c0-f58f0293be23",
   "metadata": {},
   "source": [
    "We will now analyze the firing of individual cells, to see whether they are firing regularly or irregularly.\n",
    "\n",
    "To do this, we will first calculate the **ISI** (interspike intervals = time between spikes) for each recorded neuron, calculate their **CV** (coefficient of variation = standard deviation divided by mean), and finally calculate the **average CV** across the population\n",
    "\n",
    "*Hint:*\n",
    "* Use numpy's `diff` function"
   ]
  },
  {
   "cell_type": "code",
   "execution_count": null,
   "id": "7d01cf34-c20a-4638-b5d9-67e5288cc4e1",
   "metadata": {},
   "outputs": [],
   "source": [
    "# We are doing the simulations again for simplicity\n",
    "\n",
    "# Parameters that we are varying\n",
    "g_values = [0, 2, 4, 6, 8]\n",
    "input_rate_values = [1, 2, 3]\n",
    "\n",
    "# Empty matrices of the appropriate size\n",
    "average_CV = np.empty((len(input_rate_values), len(g_values)))\n",
    "\n",
    "print('Running')\n",
    "for input_rate_index, input_rate_value in enumerate(input_rate_values):\n",
    "    for g_index, g_value in enumerate(g_values):\n",
    "        results = run_sim(input_rate_value, g_value)\n",
    "        CVs = []\n",
    "        # get spikes for each neuron\n",
    "        for idx in range(1000):\n",
    "            spike_times = results['exc_spikes_t'][results['exc_spikes_i'] == idx]  # get spikes for this neuron only\n",
    "            if len(spike_times) > 1:  # skip neurons that did not spike or only spiked once\n",
    "                # Calculate ISIs\n",
    "                \n",
    "                # TODO <-- your code here\n",
    "                \n",
    "                CV = 0  # TODO <-- replace\n",
    "                CVs.append(CV)\n",
    "        # Store average CV\n",
    "        if len(CVs):\n",
    "            average_CV[input_rate_index, g_index] = np.mean(CVs)\n",
    "        else:  # no neuron spiked, we cannot calculate anything\n",
    "            average_CV[input_rate_index, g_index] = np.nan  # NaN = \"Not a Number\"\n",
    "        print('.', end='')  # Print a dot to show progress\n",
    "print('\\nFinished')"
   ]
  },
  {
   "cell_type": "code",
   "execution_count": null,
   "id": "50857c86-057f-4744-beb8-6c001733c479",
   "metadata": {},
   "outputs": [],
   "source": [
    "for g_index, g_value in enumerate(g_values):\n",
    "    plt.plot(input_rate_values, average_CV[:, g_index], label=f'g = {g_value}')\n",
    "    plt.legend()\n",
    "    plt.ylabel('average CV')\n",
    "    plt.xlabel('input strength');"
   ]
  }
 ],
 "metadata": {
  "kernelspec": {
   "display_name": "Python 3 (ipykernel)",
   "language": "python",
   "name": "python3"
  },
  "language_info": {
   "codemirror_mode": {
    "name": "ipython",
    "version": 3
   },
   "file_extension": ".py",
   "mimetype": "text/x-python",
   "name": "python",
   "nbconvert_exporter": "python",
   "pygments_lexer": "ipython3",
   "version": "3.8.12"
  }
 },
 "nbformat": 4,
 "nbformat_minor": 5
}
