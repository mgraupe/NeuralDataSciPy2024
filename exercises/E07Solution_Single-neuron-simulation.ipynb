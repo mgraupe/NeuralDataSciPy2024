{
 "cells": [
  {
   "cell_type": "markdown",
   "id": "5aa33c4e-4f76-4c3f-993e-207091786f56",
   "metadata": {},
   "source": [
    "# E07 Single neuron simulation"
   ]
  },
  {
   "cell_type": "code",
   "execution_count": 1,
   "id": "6bc9dd21-3dda-4648-9748-44e0e2d09e8e",
   "metadata": {},
   "outputs": [],
   "source": [
    "# Imports/preparations for later\n",
    "from brian2 import *\n",
    "prefs.codegen.target = 'numpy'  # switch off code generation\n",
    "import numpy as np\n",
    "import matplotlib.pyplot as plt\n",
    "%matplotlib inline"
   ]
  },
  {
   "cell_type": "markdown",
   "id": "3fc34f50-97bf-47fa-8812-760b49c9615e",
   "metadata": {},
   "source": [
    "## LIF model: verifying the match between analytical solutions and simulations\n",
    "\n",
    "During the tutorial, we used the following equations for the leaky integrate-and-fire neuron model:\n",
    "$$\n",
    "dV/dt = \\left(g_L\\left(E_L - V\\right) + I_\\text{stim}\\right)/C\n",
    "$$\n",
    "\n",
    "### Questions\n",
    "\n",
    "1. For given values of $g_L$, $E_L$, and $C$ and a weak, constant input current $I_\\text{stim}$ (weak enough to not drive the neuron over its threshold), what is the *steady-state membrane potential*, i.e. the final membrane potential after which it no longer changes?\n",
    "\n",
    "*Hint*:\n",
    "- $V$ is at its steady-state value, if its rate of change ($dV/dt$) is zero."
   ]
  },
  {
   "cell_type": "markdown",
   "id": "f04e2051-32e9-4867-ba0a-9f5c5ea95e30",
   "metadata": {},
   "source": [
    "#### Solution\n",
    "\\begin{align}\n",
    "0 &= \\left(g_L\\left(E_L - V_\\text{steady}\\right) + I_\\text{stim}\\right)/C \\\\\n",
    "0 &= g_L\\left(E_L - V_\\text{steady}\\right) + I_\\text{stim} \\\\\n",
    "-I_\\text{stim}/g_L &= E_L - V_\\text{steady} \\\\\n",
    "-I_\\text{stim}/g_L -E_L &= - V_\\text{steady} \\\\\n",
    "V_\\text{steady} &=  I_\\text{stim}/g_L + E_L \\\\\n",
    "\\end{align}"
   ]
  },
  {
   "cell_type": "markdown",
   "id": "370f5ae4-5f14-44d8-9d55-56fadc3281eb",
   "metadata": {},
   "source": [
    "Below is the tutorial code we used to simulate a leaky integrate-and-fire neuron:"
   ]
  },
  {
   "cell_type": "code",
   "execution_count": 2,
   "id": "1d320cd5-b7b6-45e3-92eb-6f7e268a0de1",
   "metadata": {},
   "outputs": [],
   "source": [
    "# Parameters\n",
    "area = 20000*umetre**2\n",
    "C = (1*ufarad*cm**-2) * area\n",
    "g_L = (50*usiemens*cm**-2) * area\n",
    "E_L = -60*mV\n",
    "\n",
    "#Equations\n",
    "lif_eqs = \"\"\"\n",
    "dV/dt = (g_L*(E_L - V) + I_stim)/C : volt (unless refractory)\n",
    "I_stim : amp (constant)\n",
    "\"\"\""
   ]
  },
  {
   "cell_type": "code",
   "execution_count": 3,
   "id": "8ac0e9aa-5675-4cb7-b045-5f7af94a96b1",
   "metadata": {},
   "outputs": [],
   "source": [
    "start_scope()\n",
    "\n",
    "neuron = NeuronGroup(1, lif_eqs, threshold=\"V>-50*mV\", reset=\"V=-80*mV\", refractory=5*ms, method='euler')\n",
    "neuron.V = E_L\n",
    "neuron.I_stim = 0.5*nA\n",
    "\n",
    "mon = StateMonitor(neuron, \"V\", record=0)\n",
    "run(300*ms)"
   ]
  },
  {
   "cell_type": "markdown",
   "id": "826ce957-d82d-4099-b065-0fd13cc69ac3",
   "metadata": {},
   "source": [
    "2. Use the above code to simulate the neuron with a *weak, sub-threshold* (but not zero …) current. Print both your analytical prediction for the steady state voltage, and the actual voltage at the end of the simulation."
   ]
  },
  {
   "cell_type": "code",
   "execution_count": 5,
   "id": "f0fc717e-f805-4ddb-ae63-331545da6946",
   "metadata": {},
   "outputs": [
    {
     "name": "stdout",
     "output_type": "stream",
     "text": [
      "Prediction  :  -55. mV\n",
      "Actual value:  -55.00000147 mV\n"
     ]
    }
   ],
   "source": [
    "# Solution\n",
    "start_scope()\n",
    "\n",
    "neuron = NeuronGroup(1, lif_eqs, threshold=\"V>-50*mV\", reset=\"V=-80*mV\", refractory=5*ms, method='euler')\n",
    "neuron.V = E_L\n",
    "neuron.I_stim = 0.05*nA\n",
    "\n",
    "mon = StateMonitor(neuron, \"V\", record=0)\n",
    "run(300*ms)\n",
    "\n",
    "print(\"Prediction  : \", neuron.I_stim[0]/g_L + E_L)\n",
    "print(\"Actual value: \", neuron.V[0])"
   ]
  },
  {
   "cell_type": "markdown",
   "id": "8fa84fe5-d743-44f0-a366-dcbbb19e651d",
   "metadata": {},
   "source": [
    "## HH model: current pulse\n",
    "In the tutorial, we've simulated the HH model in response to a constant current injection. Now, we are looking in more detail at the shape of a single action potential, by injecting a *pulse current*."
   ]
  },
  {
   "cell_type": "code",
   "execution_count": 6,
   "id": "3219b0f6-f179-43f2-937c-dde5277648d4",
   "metadata": {},
   "outputs": [],
   "source": [
    "# Parameter\n",
    "area = 20000*umetre**2\n",
    "C = (1*ufarad*cm**-2) * area\n",
    "g_L = (50*usiemens*cm**-2) * area\n",
    "VT = -52\n",
    "E_L = -60*mV\n",
    "E_K = -90*mV\n",
    "E_Na = 50*mV\n",
    "gbar_Na = (100*msiemens*cm**-2) * area\n",
    "gbar_K = (30*msiemens*cm**-2) * area\n",
    "\n",
    "# Equations\n",
    "hh_eqs = \"\"\"\n",
    "dV/dt = (I_L + I_Na + I_K + I_stim)/C : volt\n",
    "I_L = g_L*(E_L - V) : amp\n",
    "I_Na = g_Na*(E_Na - V) : amp\n",
    "g_Na = gbar_Na*m**3*h : siemens\n",
    "I_K = g_K*(E_K - V) : amp\n",
    "g_K = gbar_K*n**4 : siemens\n",
    "\n",
    "dn/dt = (n_inf - n)/tau_n : 1\n",
    "tau_n = 1/(alpha_n + beta_n) : second\n",
    "n_inf = alpha_n/(alpha_n + beta_n) : 1\n",
    "\n",
    "dm/dt = (m_inf - m)/tau_m : 1\n",
    "tau_m = 1/(alpha_m + beta_m) : second\n",
    "m_inf = alpha_m/(alpha_m + beta_m) : 1\n",
    "\n",
    "dh/dt = (h_inf - h)/tau_h : 1\n",
    "tau_h = 1/(alpha_h + beta_h) : second\n",
    "h_inf = alpha_h/(alpha_h + beta_h) : 1\n",
    "\n",
    "V_ = V/mV : 1  # for shorter equations below\n",
    "alpha_m = 0.32*4/exprel((13-V_+VT)/4)/ms : Hz\n",
    "beta_m = 0.28*5/exprel((V_-VT-40)/5)/ms : Hz\n",
    "alpha_h = 0.128*exp((17-V_+VT)/18)/ms : Hz\n",
    "beta_h = 4./(1+exp((40-V_+VT)/5))/ms : Hz\n",
    "alpha_n = 0.032*5/exprel((15-V_+VT)/5)/ms : Hz\n",
    "beta_n = .5*exp((10-V_+VT)/40)/ms : Hz\n",
    "I_stim : amp (constant)\n",
    "\"\"\""
   ]
  },
  {
   "cell_type": "code",
   "execution_count": 7,
   "id": "379c5045-3afc-4934-81f9-b72d91f7d646",
   "metadata": {},
   "outputs": [],
   "source": [
    "start_scope()\n",
    "hh_neuron = NeuronGroup(1, hh_eqs, method=\"exponential_euler\")\n",
    "hh_neuron.V = E_L\n",
    "\n",
    "hh_mon = StateMonitor(hh_neuron, \"V\", record=0)\n",
    "\n",
    "# no input for 50ms, strong pulse for 2ms, no input for the rest of the simulation\n",
    "run(50*ms)\n",
    "\n",
    "hh_neuron.I_stim = 2*nA\n",
    "run(2*ms)\n",
    "\n",
    "hh_neuron.I_stim = 0*nA\n",
    "run(248*ms)"
   ]
  },
  {
   "cell_type": "code",
   "execution_count": 8,
   "id": "2f6730a3-ac2b-466c-b5be-98449368a25e",
   "metadata": {},
   "outputs": [
    {
     "data": {
      "image/png": "[encoded data removed]",
      "text/plain": [
       "<Figure size 640x480 with 1 Axes>"
      ]
     },
     "metadata": {},
     "output_type": "display_data"
    }
   ],
   "source": [
    "plt.plot(hh_mon.t/ms, hh_mon.V[0]/mV)\n",
    "plt.xlabel(\"time (ms)\"); plt.ylabel(\"V (mV)\");"
   ]
  },
  {
   "cell_type": "markdown",
   "id": "86185db4-7fb1-4e58-8d0b-1dad9b005c31",
   "metadata": {},
   "source": [
    "### Question\n",
    "3. Characterize the action potential with the following values:\n",
    "   - peak height (peak of action potential relative to resting potential)\n",
    "   - peak latency (time of peak relative to onset of stimulus)\n",
    "   - minimum afterhyperpolarization (minimum of action potential after spike)\n",
    "   - length of afterhyperpolarization (time after the minimum afterhyperpolarization where the membrane potential is within 1mV of resting potential)\n",
    "  \n",
    "*Hints*:\n",
    "- numpy's `argmin`, `argmax` functions can be helpful to get indices for the times in `hh_mon.t`\n",
    "- In numpy, you can index arrays with boolean values, e.g. `hh_mon.t[hh_mon.V[0] > -60*mV]` will give all the times where the membrane potential was above -60mV"
   ]
  },
  {
   "cell_type": "code",
   "execution_count": 10,
   "id": "5a36acb5-05e8-455d-a63f-e61db48fbe14",
   "metadata": {},
   "outputs": [
    {
     "name": "stdout",
     "output_type": "stream",
     "text": [
      "resting potential: -59.99625366 mV (E_L:  -60. mV )\n",
      "peak height 109.12139884 mV\n",
      "peak latency 2.9 ms\n",
      "minimum AHP -85.6521245 mV\n",
      "length of AHP 69.4 ms\n"
     ]
    }
   ],
   "source": [
    "# Solution\n",
    "# Resting potential can be calculated in several ways, here the easiest would be to take the value at the very end of the simulation\n",
    "# E_L is also a reasonable choice, it is barely distinguishable in this model\n",
    "resting_potential = hh_neuron.V[0]  # Value after simulation\n",
    "print(\"resting potential:\", resting_potential, \"(E_L: \", E_L, \")\")\n",
    "print(\"peak height\", hh_mon.V[0].max() - resting_potential)\n",
    "print(\"peak latency\", mon.t[hh_mon.V[0].argmax()] - 50*ms)\n",
    "print(\"minimum AHP\", hh_mon.V[0].min())\n",
    "print(\"length of AHP\", hh_mon.t[hh_mon.V[0] < resting_potential - 1*mV][-1] - 50*ms)"
   ]
  }
 ],
 "metadata": {
  "kernelspec": {
   "display_name": "Python 3 (ipykernel)",
   "language": "python",
   "name": "python3"
  },
  "language_info": {
   "codemirror_mode": {
    "name": "ipython",
    "version": 3
   },
   "file_extension": ".py",
   "mimetype": "text/x-python",
   "name": "python",
   "nbconvert_exporter": "python",
   "pygments_lexer": "ipython3",
   "version": "3.10.13"
  }
 },
 "nbformat": 4,
 "nbformat_minor": 5
}
