{
 "cells": [
  {
   "cell_type": "markdown",
   "metadata": {},
   "source": [
    "# E12 Analog signals"
   ]
  },
  {
   "cell_type": "markdown",
   "metadata": {},
   "source": [
    "This weeks homework asks you to perform a fast Fourier transform (FFT) on a given signal. The aim is to find out which frequency components are contained in the noisy but stationary signal. \n",
    "\n",
    "The signal is stored in an numpy array saved in the file `analag-signal1.npy`. The array contains two rows, the first row is the time axis and the second row is the signal. You first need to download the file `analag-signal1.npy` from the moodle or the github repository. \n",
    "\n",
    "Next you are asked to perform the discrete fast Fourier transform (numpy function `numpy.fft.fft`) on the signal and determine which frequencies are contained in the signal. Note that the signal is stationary, in other words, the frequency content does not change over time and you can use the entire signal to compute the FFT. \n",
    "\n",
    "Adapt the 'Fast Fourier transform of a constructed signal' code from the in-class tutorial in order to do implement this exercise.\n",
    "\n",
    "Here are the specific questions."
   ]
  },
  {
   "cell_type": "markdown",
   "metadata": {},
   "source": [
    "1. What is the sampling rate of the signal? In other words, at which frequency was the signal acquired? (Note that you first need to load the array from the `analag-signal1.npy` file by using the numpy `np.load()` function). "
   ]
  },
  {
   "cell_type": "code",
   "execution_count": 1,
   "metadata": {},
   "outputs": [],
   "source": [
    "# your code goes here "
   ]
  },
  {
   "cell_type": "markdown",
   "metadata": {},
   "source": [
    "2. Perform the fast Fourier transform (FFT, with numpy function `numpy.fft.fft` as in the first example of the in-class tutorial) on the signal. Plot the signal in the time (time on x-axis, measurement on y-axis) and in the frequency domain (frequency on x-axis, spetral power on y-axis). Determine from the frequency domain plot  which frequencies are contained in the signal (determine the frequencies through visual inspection of the plot). Note that you need the sampling rate obtained above to get the correct scaling of the frequency axis. "
   ]
  },
  {
   "cell_type": "code",
   "execution_count": 3,
   "metadata": {},
   "outputs": [],
   "source": [
    "# your code goes here "
   ]
  }
 ],
 "metadata": {
  "kernelspec": {
   "display_name": "Python 3 (ipykernel)",
   "language": "python",
   "name": "python3"
  },
  "language_info": {
   "codemirror_mode": {
    "name": "ipython",
    "version": 3
   },
   "file_extension": ".py",
   "mimetype": "text/x-python",
   "name": "python",
   "nbconvert_exporter": "python",
   "pygments_lexer": "ipython3",
   "version": "3.8.12"
  }
 },
 "nbformat": 4,
 "nbformat_minor": 2
}
