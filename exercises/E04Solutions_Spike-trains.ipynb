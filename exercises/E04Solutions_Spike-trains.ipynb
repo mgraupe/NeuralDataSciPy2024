{
 "cells": [
  {
   "cell_type": "markdown",
   "metadata": {},
   "source": [
    "# E04 Spike trains"
   ]
  },
  {
   "cell_type": "markdown",
   "metadata": {},
   "source": [
    "This week's homework is a continuation of the in-class tutorial. \n",
    "\n",
    "Remember that we considered a neuron, that is responding to green light by emitting spikes. We have a recording electrode near the soma (the point where this neuron generates spikes). Through this electrode, we can record the time when this neuron is firing. \n",
    "The result of this recording is a list of `0`s for when no spike was emitted and `1`s for when a spike was emitted. \n",
    "\n",
    "The neuron was stimulated and recorded 10 times. Below are the spike-trains of the neuron from ten identical recordings, i.e., the green light simulus was always on during the [50,130] ms time window. The bin size of the recording is 10 ms, i.e., each individual recording is 200 ms long. "
   ]
  },
  {
   "cell_type": "code",
   "execution_count": 21,
   "metadata": {},
   "outputs": [],
   "source": [
    "import numpy as np\n",
    "\n",
    "recordingTime = np.array([10,20,30,40,50,60,70,80,90,100,110,120,130,140,150,160,170,180,190,200])\n",
    "tenSpikeTrains = np.array([[0,0,0,0,0,0,0,0,1,0,1,0,1,0,0,0,1,0,0,0],\\\n",
    "                  [0,0,0,0,0,0,0,1,1,0,0,0,1,0,0,0,1,0,0,0],\\\n",
    "                  [1,0,0,0,0,0,0,0,0,1,0,0,1,0,0,0,0,0,1,0],\\\n",
    "                  [0,0,0,0,0,0,0,1,1,0,1,0,0,0,0,0,0,1,0,0],\\\n",
    "                  [0,0,0,0,0,0,0,0,1,0,0,1,0,0,0,0,0,0,0,0],\\\n",
    "                  [0,0,0,0,0,0,0,0,0,1,1,0,0,0,1,0,0,0,1,0],\\\n",
    "                  [0,0,0,0,0,0,0,1,1,1,0,0,1,1,0,0,1,1,0,0],\\\n",
    "                  [0,0,0,0,0,0,0,0,0,1,1,0,0,0,0,1,0,0,0,0],\\\n",
    "                  [0,0,0,0,0,0,0,1,1,0,0,1,1,0,0,1,1,0,0,0],\\\n",
    "                  [0,0,0,0,0,1,0,0,1,0,1,0,0,0,0,0,1,1,0,0]])"
   ]
  },
  {
   "cell_type": "markdown",
   "metadata": {},
   "source": [
    "#### Question: What is the neuron's average firing rate during the entire recording ? \n",
    "\n",
    "In order to respond to this question, let's first visualize and condense the many stimulus trials and responses. We turn to the **peri-stimulus time histogram (PSTH)** to visualize as a bar graph the spiking of the neuron over time, just before and after (hence peri) each stimulus. This is a standard depiction of neural activity data.\n",
    "\n",
    "1. Calculate the *total number of spikes* emitted for each time bin of 10 ms across trials. <br> **Hints:** <br> - Note that each row in the array corresponds to a trial and each column to a time bin. <br> - Note that columnn can be accessed by `tenSpikeTrains[:,j]`, where `j` is the index of the column. "
   ]
  },
  {
   "cell_type": "code",
   "execution_count": 22,
   "metadata": {},
   "outputs": [
    {
     "name": "stdout",
     "output_type": "stream",
     "text": [
      "[1 0 0 0 0 1 0 4 7 4 5 2 5 1 1 2 5 3 2 0]\n",
      "[1, 0, 0, 0, 0, 1, 0, 4, 7, 4, 5, 2, 5, 1, 1, 2, 5, 3, 2, 0]\n"
     ]
    }
   ],
   "source": [
    "import matplotlib.pyplot as plt\n",
    "import numpy as np\n",
    "%matplotlib inline\n",
    "\n",
    "# using the numpy sum function but summing over different dimensions of the 2d array\n",
    "spikesPerBin = np.sum(tenSpikeTrains,axis=0)\n",
    "\n",
    "print(spikesPerBin)\n",
    "\n",
    "# alternatively, using a loop\n",
    "spikesPerBin = []\n",
    "for j in range(np.shape(tenSpikeTrains)[1]):\n",
    "    spikesPerBin.append(np.sum(tenSpikeTrains[:,j]))    \n",
    "\n",
    "print(spikesPerBin)\n"
   ]
  },
  {
   "cell_type": "markdown",
   "metadata": {},
   "source": [
    "2. Plot the *total number of spikes* emitted in each 10 ms time bin as bar graph (using the `matplotlib.pyplot` `bar()` function). This plot is the PSTH of the neural response to visual stimulation. It shows the total number of spikes as a function of recording time. Note that the total number of spikes is calculated across all ten recordings.\n",
    "\n"
   ]
  },
  {
   "cell_type": "code",
   "execution_count": 20,
   "metadata": {},
   "outputs": [
    {
     "data": {
      "image/png": "[encoded data removed]",
      "text/plain": [
       "<Figure size 432x288 with 1 Axes>"
      ]
     },
     "metadata": {
      "needs_background": "light"
     },
     "output_type": "display_data"
    }
   ],
   "source": [
    "plt.bar(recordingTime,spikesPerBin,width=10) \n",
    "plt.axvspan(50,130,color='green',alpha=0.2) # note that the visualization of the stimulus period was not requested in the exercise\n",
    "plt.show()\n"
   ]
  },
  {
   "cell_type": "markdown",
   "metadata": {},
   "source": [
    "The `bar` function : \n",
    "1. input argument gives x values\n",
    "2. input argument provides y values which are displayed as bars. The y values are the sum across each column which are the total number of spikes in each time bin across the ten recordings. \n",
    "3. input argument provided here specifies that each bar should be of width `10`. "
   ]
  },
  {
   "cell_type": "markdown",
   "metadata": {},
   "source": [
    "3. Replot the PSTH where each bar height depicts the *mean number of spikes* in each time bin. This depiction shows the average number of spikes emitted over time."
   ]
  },
  {
   "cell_type": "code",
   "execution_count": 31,
   "metadata": {},
   "outputs": [
    {
     "data": {
      "image/png": "[encoded data removed]",
      "text/plain": [
       "<Figure size 432x288 with 1 Axes>"
      ]
     },
     "metadata": {
      "needs_background": "light"
     },
     "output_type": "display_data"
    }
   ],
   "source": [
    "nTrials = np.shape(tenSpikeTrains)[0]\n",
    "spikesPerBin = np.asarray(spikesPerBin)\n",
    "plt.bar(recordingTime,spikesPerBin/nTrials,width=10) \n",
    "plt.axvspan(50,130,color='green',alpha=0.2) # note that the visualization of the stimulus period was not requested in the exercise\n",
    "plt.show()"
   ]
  },
  {
   "cell_type": "markdown",
   "metadata": {},
   "source": [
    "To get the average number of spikes, one simply divides the total number of spikes per time bin by the number of trials which is `10` in our case. "
   ]
  },
  {
   "cell_type": "markdown",
   "metadata": {},
   "source": [
    "4. What is the average firing rate during the entire recording period? Note that average refers her to the average across trials. "
   ]
  },
  {
   "cell_type": "code",
   "execution_count": 37,
   "metadata": {},
   "outputs": [
    {
     "name": "stdout",
     "output_type": "stream",
     "text": [
      "The average firing rate is during the recording is  21.5 spk/s\n"
     ]
    }
   ],
   "source": [
    "totalNumberOfSpikes = np.sum(tenSpikeTrains)\n",
    "averageNumberOfSpikesPerTrial = totalNumberOfSpikes/nTrials\n",
    "totalDuration = recordingTime[-1]\n",
    "print('The average firing rate is during the recording is ', averageNumberOfSpikesPerTrial*1000/totalDuration, 'spk/s' )"
   ]
  },
  {
   "cell_type": "markdown",
   "metadata": {},
   "source": [
    "To calculate the firing rate, one counts the number of spikes across a specific interval and divides that number by the duration of the period of interest. Here, the period of interest is the duration of the recording, 200 ms. The average number of spikes during the recording is the sum of all spikes divided by the number of trials/repetitions. "
   ]
  }
 ],
 "metadata": {
  "kernelspec": {
   "display_name": "Python 3 (ipykernel)",
   "language": "python",
   "name": "python3"
  },
  "language_info": {
   "codemirror_mode": {
    "name": "ipython",
    "version": 3
   },
   "file_extension": ".py",
   "mimetype": "text/x-python",
   "name": "python",
   "nbconvert_exporter": "python",
   "pygments_lexer": "ipython3",
   "version": "3.8.12"
  }
 },
 "nbformat": 4,
 "nbformat_minor": 2
}
