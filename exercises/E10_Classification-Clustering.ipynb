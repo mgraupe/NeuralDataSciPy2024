{
 "cells": [
  {
   "cell_type": "markdown",
   "metadata": {},
   "source": [
    "# E10 Classification and clustering "
   ]
  },
  {
   "cell_type": "markdown",
   "metadata": {},
   "source": [
    "The aim of this exersise is to search for clusters/groups in a given dataset using the **k-means algorithm**. Remember that we use clustering when we don't know the groups exisiting in the data and we want to explore the possible group structure. \n",
    "\n",
    "Since we don't know how many groups exist in the dataset, we will run the k-means algorithm multiple times to search for different numbers of clusters. In turn, we will use the **silhouett analysis** to determine how many clusters are likely to be valid. "
   ]
  },
  {
   "cell_type": "markdown",
   "metadata": {},
   "source": [
    "#### 1. Implementation of the k-means clustering algorithm\n",
    "\n",
    "We will use k-means to separate the dataset into *k* pre-defined distinct, non-overlapping clusters. \n",
    "\n",
    "**Your first task** is to implement the k-means clustering. For this purpose, load the 2-dimensional dataset and perform the clustering using the code below. You have to specifiy how many clusters you want to be found, i.e., you have to asign a number to `nClusters`. Let's start with looking for three clusters, i.e., `nClusters=3`. \n",
    "\n",
    "**Note:** You first need to download and load the dataset (using `np.load()`) from the provided numpy binary file `data-set-clustering.npy` and save it as `Xdata`. The dataset has 100 entries, each containing two input variables (as for the example in class). "
   ]
  },
  {
   "cell_type": "code",
   "execution_count": null,
   "metadata": {},
   "outputs": [],
   "source": [
    "# k-means clustering algorithm implementation\n",
    "# modify this code to run k-means on the data in the 'data-set-clustering.npy' file\n",
    "import numpy as np\n",
    "import matplotlib.pyplot as plt\n",
    "\n",
    "from sklearn.cluster import KMeans\n",
    "from sklearn.metrics import silhouette_score\n",
    "\n",
    "\n",
    "nClusters = [number of clusters to be found by k-means]\n",
    "\n",
    "kmeans = KMeans(n_clusters=nC)    # creates the k-mean algorithm with pre-defined numbers of clusters\n",
    "Ypred = kmeans.fit_predict(Xdata) # performs the clustering on the data-set 'Xdata'"
   ]
  },
  {
   "cell_type": "markdown",
   "metadata": {},
   "source": [
    "#### 2. Assessing clustering with Silhouette analysis\n",
    "\n",
    "Use the Silhouette score to assess how well the clusters are separted. Remember from class, the silhouette analysis gives a perspective into the density and separation of the formed clusters. The clustering with the highest silhouette score reflects to most likely separation of the data. \n",
    "\n",
    "**Your second task** is to run k-means clustering testing 2 to 7 clusters (varying the `nClusters` variable). Calculate and save the silhouette score for each of the obtained clusterings. \n",
    "\n",
    "**Note :** The Silhouette score can be computed with the line below *after* running the k-means clustering (code above). "
   ]
  },
  {
   "cell_type": "code",
   "execution_count": null,
   "metadata": {},
   "outputs": [],
   "source": [
    "silhouetteScore = silhouette_score(Xdata, Ypred)"
   ]
  },
  {
   "cell_type": "code",
   "execution_count": 4,
   "metadata": {},
   "outputs": [],
   "source": [
    "# your code goes here "
   ]
  },
  {
   "cell_type": "markdown",
   "metadata": {},
   "source": [
    "#### 3. Visualize the Silhouette score\n",
    "\n",
    "Plot the Silhouette score as a function of the number of pre-determined clusters in the k-means algorithm (`nClusters`). Determine based on the Silhouette score which of the clusterings is the most valid, i.e., the most likely clustering structure in the data. "
   ]
  },
  {
   "cell_type": "code",
   "execution_count": 14,
   "metadata": {},
   "outputs": [],
   "source": [
    "# your code goes here"
   ]
  },
  {
   "cell_type": "markdown",
   "metadata": {},
   "source": [
    "## The end"
   ]
  }
 ],
 "metadata": {
  "kernelspec": {
   "display_name": "Python 3 (ipykernel)",
   "language": "python",
   "name": "python3"
  },
  "language_info": {
   "codemirror_mode": {
    "name": "ipython",
    "version": 3
   },
   "file_extension": ".py",
   "mimetype": "text/x-python",
   "name": "python",
   "nbconvert_exporter": "python",
   "pygments_lexer": "ipython3",
   "version": "3.8.12"
  }
 },
 "nbformat": 4,
 "nbformat_minor": 4
}
