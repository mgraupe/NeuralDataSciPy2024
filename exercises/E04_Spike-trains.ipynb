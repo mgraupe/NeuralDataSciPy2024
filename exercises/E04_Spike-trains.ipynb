{
 "cells": [
  {
   "cell_type": "markdown",
   "metadata": {},
   "source": [
    "# E04 Spike trains"
   ]
  },
  {
   "cell_type": "markdown",
   "metadata": {},
   "source": [
    "This week's homework is a continuation of the in-class tutorial. \n",
    "\n",
    "Remember that we considered a neuron, that is responding to green light by emitting spikes. We have a recording electrode near the soma (the point where this neuron generates spikes). Through this electrode, we can record the time when this neuron is firing. \n",
    "The result of this recording is a list of `0`s for when no spike was emitted and `1`s for when a spike was emitted. \n",
    "\n",
    "The neuron was stimulated and recorded 10 times. Below are the spike-trains of the neuron from ten identical recordings, i.e., the green light simulus was always on during the [50,130] ms time window. The bin size of the recording is 10 ms, i.e., each individual recording is 200 ms long. "
   ]
  },
  {
   "cell_type": "code",
   "execution_count": 7,
   "metadata": {},
   "outputs": [],
   "source": [
    "import numpy as np\n",
    "\n",
    "recordingTime = np.array([10,20,30,40,50,60,70,80,90,100,110,120,130,140,150,160,170,180,190,200])\n",
    "tenSpikeTrains = np.array([[0,0,0,0,0,0,0,0,1,0,1,0,1,0,0,0,1,0,0,0],\\\n",
    "                  [0,0,0,0,0,0,0,1,1,0,0,0,1,0,0,0,1,0,0,0],\\\n",
    "                  [1,0,0,0,0,0,0,0,0,1,0,0,1,0,0,0,0,0,1,0],\\\n",
    "                  [0,0,0,0,0,0,0,1,1,0,1,0,0,0,0,0,0,1,0,0],\\\n",
    "                  [0,0,0,0,0,0,0,0,1,0,0,1,0,0,0,0,0,0,0,0],\\\n",
    "                  [0,0,0,0,0,0,0,0,0,1,1,0,0,0,1,0,0,0,1,0],\\\n",
    "                  [0,0,0,0,0,0,0,1,1,1,0,0,1,1,0,0,1,1,0,0],\\\n",
    "                  [0,0,0,0,0,0,0,0,0,1,1,0,0,0,0,1,0,0,0,0],\\\n",
    "                  [0,0,0,0,0,0,0,1,1,0,0,1,1,0,0,1,1,0,0,0],\\\n",
    "                  [0,0,0,0,0,1,0,0,1,0,1,0,0,0,0,0,1,1,0,0]])"
   ]
  },
  {
   "cell_type": "markdown",
   "metadata": {},
   "source": [
    "#### Question: What is the neuron's average firing rate during the entire recording ? \n",
    "\n",
    "In order to respond to this question, let's first visualize and condense the many stimulus trials and responses. We turn to the **peri-stimulus time histogram (PSTH)** to visualize as a bar graph the spiking of the neuron over time, just before and after (hence peri) each stimulus. This is a standard depiction of neural activity data.\n",
    "\n",
    "1. Calculate the *total number of spikes* emitted for each time bin of 10 ms across trials. <br> **Hints:** <br> - Note that each row in the array corresponds to a trial and each column to a time bin. <br> - Note that columnn can be accessed by `tenSpikeTrains[:,j]`, where `j` is the index of the column."
   ]
  },
  {
   "cell_type": "code",
   "execution_count": 5,
   "metadata": {},
   "outputs": [],
   "source": [
    "# your codes goes here"
   ]
  },
  {
   "cell_type": "markdown",
   "metadata": {},
   "source": [
    "2. Plot the *total number of spikes* emitted in each 10 ms time bin as bar graph (using the `matplotlib.pyplot` `bar()` function). This plot is the PSTH of the neural response to visual stimulation. It shows the total number of spikes as a function of recording time. Note that the total number of spikes is calculated across all ten recordings.\n"
   ]
  },
  {
   "cell_type": "code",
   "execution_count": 8,
   "metadata": {},
   "outputs": [],
   "source": [
    "# your code goes here"
   ]
  },
  {
   "cell_type": "markdown",
   "metadata": {},
   "source": [
    "3. Replot the PSTH where each bar height depicts the *mean number of spikes* in each time bin. This depiction shows the average number of spikes emitted over time. "
   ]
  },
  {
   "cell_type": "code",
   "execution_count": 9,
   "metadata": {},
   "outputs": [],
   "source": [
    "# your code goes here"
   ]
  },
  {
   "cell_type": "markdown",
   "metadata": {},
   "source": [
    "4. What is the average firing rate during the entire recording period? Note that average refers here to the average across trials."
   ]
  },
  {
   "cell_type": "code",
   "execution_count": null,
   "metadata": {},
   "outputs": [],
   "source": [
    "# your code goes here"
   ]
  }
 ],
 "metadata": {
  "kernelspec": {
   "display_name": "Python 3 (ipykernel)",
   "language": "python",
   "name": "python3"
  },
  "language_info": {
   "codemirror_mode": {
    "name": "ipython",
    "version": 3
   },
   "file_extension": ".py",
   "mimetype": "text/x-python",
   "name": "python",
   "nbconvert_exporter": "python",
   "pygments_lexer": "ipython3",
   "version": "3.8.12"
  }
 },
 "nbformat": 4,
 "nbformat_minor": 2
}
