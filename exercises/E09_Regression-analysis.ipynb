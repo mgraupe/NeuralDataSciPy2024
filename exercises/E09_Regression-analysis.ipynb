{
 "cells": [
  {
   "cell_type": "markdown",
   "metadata": {},
   "source": [
    "# E08 : Regression analysis"
   ]
  },
  {
   "cell_type": "markdown",
   "metadata": {},
   "source": [
    "This week's homework asks you to perform a **linear regression analysis** on actual data. The aim is to investigate whether a linear relationship between the independent and the dependent variable exists. \n",
    "\n",
    "The data-set contains cricket chirps (dependent variable) versus temperature (independent variable). The chrip rate is measured in chirps/sec for the [striped ground cricket](http://songsofinsects.com/crickets/striped-ground-cricket) at a given temperature which is provided in degrees celisus. The data is taken from [The Song of Insects by Dr.G.W. Pierce, Harvard College Press](https://www.hup.harvard.edu/catalog.php?isbn=9780674420663) . \n",
    "\n",
    "The data is given below in the cricketData `numpy` array. Note that the *first column contains the chrip rate in chirps/sec* and the *second column contains the temperature* in celsius. \n"
   ]
  },
  {
   "cell_type": "code",
   "execution_count": 2,
   "metadata": {},
   "outputs": [],
   "source": [
    "import numpy as np\n",
    "import matplotlib.pyplot as plt\n",
    "%matplotlib inline\n",
    "\n",
    "cricketData = np.array(([20.         ,31.44444359],\n",
    " [16.         ,21.99999915],\n",
    " [19.79999924 ,34.05555725],\n",
    " [18.39999962 ,29.05555725],\n",
    " [17.10000038 ,26.99999915],\n",
    " [15.5        ,23.99999831],\n",
    " [14.69999981 ,20.94444275],\n",
    " [17.10000038 ,27.77777778],\n",
    " [15.39999962 ,20.77777863],\n",
    " [16.20000076 ,28.50000169],\n",
    " [15.         ,26.44444359],\n",
    " [17.20000076 ,28.11111026],\n",
    " [16.         ,26.99999915],\n",
    " [17.         ,28.61111111],\n",
    " [14.39999962 ,24.61111281]))"
   ]
  },
  {
   "cell_type": "markdown",
   "metadata": {},
   "source": [
    "Here are the specific questions related to this data-set : \n",
    "\n",
    "1. Perform a linear regression analysis on the cricket chirp data-set. Treat the temperature as independent variable and the chirp rate (in chrips/sec) as dependent variable. <br>\n",
    "**Hint:** Remember from the course that the dependent variable is the one which you aim to predict based on changes in the independent variable. Check out the [Tutorial T8 - Regression analysis](https://github.com/mgraupe/DataSciPy2022/blob/main/tutorials/T08_Regression-analysis.ipynb) for two possibilities of how a linear regression analysis can be performed. "
   ]
  },
  {
   "cell_type": "code",
   "execution_count": 1,
   "metadata": {},
   "outputs": [],
   "source": [
    "# your code goes here "
   ]
  },
  {
   "cell_type": "markdown",
   "metadata": {},
   "source": [
    "2. Plot the cricket-data - temperature on the x-axis and chrip rate on the y-axis - together with the regression line obtained from the linear regression analysis. "
   ]
  },
  {
   "cell_type": "code",
   "execution_count": 4,
   "metadata": {},
   "outputs": [],
   "source": [
    "# your code goes here "
   ]
  },
  {
   "cell_type": "markdown",
   "metadata": {},
   "source": [
    "3. What is the R squared value obtaind through the linear regression analysis on the cricket data? In other words, what is the percentage of the data variability which is explained by the linear regression? "
   ]
  },
  {
   "cell_type": "code",
   "execution_count": 1,
   "metadata": {},
   "outputs": [],
   "source": [
    "# your code goes here"
   ]
  },
  {
   "cell_type": "markdown",
   "metadata": {},
   "source": [
    "4. Now perform regression analysis with a 2nd order polynomial. What is the R squared value obtaind with this more flexible function?"
   ]
  },
  {
   "cell_type": "code",
   "execution_count": 2,
   "metadata": {},
   "outputs": [],
   "source": [
    "# your code goes here"
   ]
  },
  {
   "cell_type": "markdown",
   "metadata": {},
   "source": [
    "5. Using the regression model from the linear- and the second order polynomial regression analysis make a prediction of the cricket behavior for a temperature which is outside the range of measured values. Specifically, which rate of chirps would both regression models predict for  40 °C? Which of the two predictions do you trust more and why? "
   ]
  },
  {
   "cell_type": "code",
   "execution_count": 6,
   "metadata": {},
   "outputs": [],
   "source": [
    "# your code goes here"
   ]
  }
 ],
 "metadata": {
  "kernelspec": {
   "display_name": "Python 3 (ipykernel)",
   "language": "python",
   "name": "python3"
  },
  "language_info": {
   "codemirror_mode": {
    "name": "ipython",
    "version": 3
   },
   "file_extension": ".py",
   "mimetype": "text/x-python",
   "name": "python",
   "nbconvert_exporter": "python",
   "pygments_lexer": "ipython3",
   "version": "3.8.12"
  }
 },
 "nbformat": 4,
 "nbformat_minor": 2
}
