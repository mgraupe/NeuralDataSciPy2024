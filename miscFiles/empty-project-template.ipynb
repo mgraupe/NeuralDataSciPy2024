{
 "cells": [
  {
   "cell_type": "markdown",
   "metadata": {},
   "source": [
    "# [Project title - should be precise and concise]"
   ]
  },
  {
   "cell_type": "markdown",
   "metadata": {},
   "source": [
    "*[Author names]*"
   ]
  },
  {
   "cell_type": "markdown",
   "metadata": {},
   "source": [
    "### Abstract\n",
    "\n",
    "[What did you do in a nutshell? Question – Method(s) – Results] [Lorem ipsum dolor sit amet, ea ius suas oblique definitiones, in qui nullam possit conclusionemque. Sed et bonorum theophrastus. Purto euismod qualisque id eos, congue audiam omittantur cu his. At augue impedit per. Cu intellegam interesset pri. Ius omnes senserit eu, falli mediocrem mei at, scripserit repudiandae nam ad. Sint sanctus vis ex, ancillae maiestatis et usu, omnes dicunt qui ne. His ei mazim voluptua scripserit, hinc adhuc quidam has in, per cu ipsum offendit consulatu. In doctus iriure pro, pro eu illud omnium. Corpora corrumpit philosophia at nec, no mel vide ponderum. Molestie consetetur ex sit, ignota invidunt instructior est id, nisl commodo omittantur id vel.]"
   ]
  },
  {
   "cell_type": "markdown",
   "metadata": {},
   "source": [
    "### Introduction \n",
    "\n",
    "[What is the question ?] [Lorem ipsum dolor sit amet, ea ius suas oblique definitiones, in qui nullam possit conclusionemque. Sed et bonorum theophrastus. Purto euismod qualisque id eos, congue audiam omittantur cu his. At augue impedit per. Cu intellegam interesset pri. Ius omnes senserit eu, falli mediocrem mei at, scripserit repudiandae nam ad. Sint sanctus vis ex, ancillae maiestatis et usu, omnes dicunt qui ne. His ei mazim voluptua scripserit, hinc adhuc quidam has in, per cu ipsum offendit consulatu. In doctus iriure pro, pro eu illud omnium. \n",
    "\n",
    "Corpora corrumpit philosophia at nec, no mel vide ponderum. Molestie consetetur ex sit, ignota invidunt instructior est id, nisl commodo omittantur id vel. Vero vidit dolorem ei cum, eam suas inimicus postulant an. His ea quod putant sadipscing. Harum recusabo ut mea, ius in soleat sadipscing, nullam vocibus his ei. Quo at nulla eruditi definiebas, est ad iusto patrioque accommodare, et odio porro vix. Eu quod adhuc hendrerit eam. Ea has dolorum volumus, at singulis indoctum mei. Sit tollit praesent salutatus eu, maluisset imperdiet mei an. Dicta democritum cu eum, eu nam offendit expetenda scripserit. Sed ut aliquip urbanitas honestatis, per nulla gubergren ne, duo no inermis denique torquatos. Ad facilisis efficiantur intellegebat cum, duis audire intellegebat nec at. Duis quando cotidieque et eam, eu quod duis justo per. Tota altera adipisci no est, gloriatur democritum nam et. Sed clita recusabo te, pri fabellas pertinacia moderatius no, per ne impedit nominati argumentum. Civibus consetetur usu et, duo in munere oporteat.]\n",
    " "
   ]
  },
  {
   "cell_type": "markdown",
   "metadata": {},
   "source": [
    "### Results \n",
    "\n",
    "[Describe for each step in a few words what you are doing.]"
   ]
  },
  {
   "cell_type": "code",
   "execution_count": 1,
   "metadata": {},
   "outputs": [],
   "source": [
    "# your code \n",
    "# try to annotate the code - add comments and explanations \n",
    "\n"
   ]
  },
  {
   "cell_type": "markdown",
   "metadata": {},
   "source": [
    "[Comment and explain your results.]"
   ]
  },
  {
   "cell_type": "markdown",
   "metadata": {},
   "source": [
    "[Figures should come with a caption providing details of what is shown.] "
   ]
  },
  {
   "cell_type": "code",
   "execution_count": 2,
   "metadata": {},
   "outputs": [],
   "source": [
    "# more code \n"
   ]
  },
  {
   "cell_type": "markdown",
   "metadata": {},
   "source": [
    "[More explanations.]"
   ]
  },
  {
   "cell_type": "code",
   "execution_count": 3,
   "metadata": {},
   "outputs": [],
   "source": [
    "# even more code ... \n"
   ]
  },
  {
   "cell_type": "markdown",
   "metadata": {},
   "source": [
    "### Discussion\n",
    "[What does it mean?] [Ad facilisis efficiantur intellegebat cum, duis audire intellegebat nec at. Corpora corrumpit philosophia at nec, no mel vide ponderum. Molestie consetetur ex sit, ignota invidunt instructior est id, nisl commodo omittantur id vel. Vero vidit dolorem ei cum, eam suas inimicus postulant an. His ea quod putant sadipscing. Harum recusabo ut mea, ius in soleat sadipscing, nullam vocibus his ei. Quo at nulla eruditi definiebas, est ad iusto patrioque accommodare, et odio porro vix. Eu quod adhuc hendrerit eam. Ea has dolorum volumus, at singulis indoctum mei. Sit tollit praesent salutatus eu, maluisset imperdiet mei an. Dicta democritum cu eum, eu nam offendit expetenda scripserit. Sed ut aliquip urbanitas honestatis, per nulla gubergren ne, duo no inermis denique torquatos. Ad facilisis efficiantur intellegebat cum, duis audire intellegebat nec at. Ad facilisis efficiantur intellegebat cum, duis audire intellegebat nec at. Corpora corrumpit philosophia at nec, no mel vide ponderum. Thank you \n",
    "\n",
    "Molestie consetetur ex sit, ignota invidunt instructior est id, nisl commodo omittantur id vel. Vero vidit dolorem ei cum, eam suas inimicus postulant an. His ea quod putant sadipscing. Harum recusabo ut mea, ius in soleat sadipscing, nullam vocibus his ei. Quo at nulla eruditi definiebas, est ad iusto patrioque accommodare, et odio porro vix. Eu quod adhucThank you  hendrerit eam. Ea has dolorum volumus, at singulis indoctum mei. Sit tollit praesent salutatus eu, maluisset imperdiet mei. Molestie consetetur ex sit, ignota invidunt instructior est id, nisl commodo omittantur id vel. Vero vidit dolorem ei cum, eam suas inimicus postulant an. His ea quod putant sadipscing. Harum recusabo ut mea, ius in soleat sadipscing, nullam vocibus his ei. Quo at nulla eruditi definiebas, est ad iusto patrioque accommodare, et odio porro vix. Eu quod adhuc hendrerit eam. Ea has dolorum volumus, at singulis indoctum mei. Sit tollit praesent salutatus eu, maluisset imperdiet mei.]"
   ]
  },
  {
   "cell_type": "markdown",
   "metadata": {},
   "source": [
    "### References \n",
    "\n",
    "1. LeDoux, J. E. Emotion circuits in the brain. Annu. Rev. Neurosci. 23, 155–184 (2000).\n",
    "2. Davis, M., Schlesinger, L. S. & Sorenson, C. A. Temporal specificity of fear conditioning: effects of different conditioned stimulus-unconditioned stimulus intervals on the fear-potentiated startle effect. J. Exp. Psychol. Anim. Behav. Process. 15, 295–310 (1989).\n",
    "3. Knippenberg, J. M. J., Barry, R. J., Kuniecki, M. J. & van Luijtelaar, G. Fast, transient cardiac accelerations and decelerations during fear conditioning in rats. Physiol. Behav. 105, 607–612 (2012).\n"
   ]
  }
 ],
 "metadata": {
  "kernelspec": {
   "display_name": "Python 3",
   "language": "python",
   "name": "python3"
  },
  "language_info": {
   "codemirror_mode": {
    "name": "ipython",
    "version": 3
   },
   "file_extension": ".py",
   "mimetype": "text/x-python",
   "name": "python",
   "nbconvert_exporter": "python",
   "pygments_lexer": "ipython3",
   "version": "3.6.7"
  }
 },
 "nbformat": 4,
 "nbformat_minor": 2
}
