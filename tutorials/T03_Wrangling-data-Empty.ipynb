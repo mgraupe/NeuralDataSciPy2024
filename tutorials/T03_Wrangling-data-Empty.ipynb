{
 "cells": [
  {
   "cell_type": "markdown",
   "metadata": {},
   "source": [
    "# T3 Wrangling Data with Python "
   ]
  },
  {
   "cell_type": "markdown",
   "metadata": {},
   "source": [
    "We will work with three very different data-sets in today's tutorial : \n",
    "\n",
    "1. An image (file : `gcamp7.bmp`)\n",
    "2. A text (file : `gospel-of-buddha.txt`)\n",
    "3. Tabular data  (file : `time-series2.xls`)\n",
    "\n",
    "We will load each of these data-sets, understand the content and structure of the data and display it in a sensible way. Note that all three accompanying files need to be downloaded from the github repository. \n"
   ]
  },
  {
   "cell_type": "markdown",
   "metadata": {},
   "source": [
    "## Working with an image"
   ]
  },
  {
   "cell_type": "markdown",
   "metadata": {},
   "source": [
    "Our image is in the bitmap format which has the file ending `.bmp`. We can use `matplotlib` to load the image. "
   ]
  },
  {
   "cell_type": "code",
   "execution_count": 4,
   "metadata": {},
   "outputs": [],
   "source": [
    "import numpy as np\n",
    "import matplotlib.pyplot as plt\n",
    "\n",
    "img = plt.imread('gcamp7.bmp')"
   ]
  },
  {
   "cell_type": "markdown",
   "metadata": {},
   "source": [
    "Let's first try to understand the structure of the data. In other words, let's try to understand how the image information is represented in the data structure?"
   ]
  },
  {
   "cell_type": "code",
   "execution_count": null,
   "metadata": {},
   "outputs": [],
   "source": []
  },
  {
   "cell_type": "markdown",
   "metadata": {},
   "source": [
    "Let's plot the image. We can use the matplotlib function `plt.imshow()` for this. "
   ]
  },
  {
   "cell_type": "code",
   "execution_count": null,
   "metadata": {},
   "outputs": [],
   "source": []
  },
  {
   "cell_type": "markdown",
   "metadata": {},
   "source": [
    "Now, let's extrat the only channel containing information. Which channel "
   ]
  },
  {
   "cell_type": "code",
   "execution_count": null,
   "metadata": {},
   "outputs": [],
   "source": []
  },
  {
   "cell_type": "markdown",
   "metadata": {},
   "source": [
    "Now, let's extrat the only channel containing information. Which channel contains the information and how to access it? Let's save it in new variable called `img2` and plot it. "
   ]
  },
  {
   "cell_type": "code",
   "execution_count": null,
   "metadata": {},
   "outputs": [],
   "source": []
  },
  {
   "cell_type": "markdown",
   "metadata": {},
   "source": [
    "We next want to get an idea about the distribution of brightness levels in the new image (`img2`). Let's plot the histogram for that pupose using the matplotlib function `plt.hist()`. Chose an appropriate number of bins with the argument `bins=...` in the `plt.hist()` function. <br> <b>Attention!</b> The image needs to be flattened for this purpose (try `img2.flatten()` for that purpose)."
   ]
  },
  {
   "cell_type": "code",
   "execution_count": null,
   "metadata": {},
   "outputs": [],
   "source": []
  },
  {
   "cell_type": "markdown",
   "metadata": {},
   "source": [
    "Let's extract the brightest regions. Which percentage of pixels contain brightness levels above 60, for example? "
   ]
  },
  {
   "cell_type": "code",
   "execution_count": null,
   "metadata": {},
   "outputs": [],
   "source": []
  },
  {
   "cell_type": "markdown",
   "metadata": {},
   "source": [
    "Lastly, let's plot the image by setting the pixel with brightness level above 60 to 255 and the remaining pixels to 0. "
   ]
  },
  {
   "cell_type": "code",
   "execution_count": null,
   "metadata": {},
   "outputs": [],
   "source": []
  },
  {
   "cell_type": "markdown",
   "metadata": {},
   "source": [
    "## Working with texts "
   ]
  },
  {
   "cell_type": "markdown",
   "metadata": {},
   "source": [
    "We will work the the text of the book : \n",
    "- The Gospel of Buddha, by Paul Carus (Only because I could find that text easily online.)\n",
    "\n",
    "The below code opens the text file, reads its content and splits the content into individual words based on the space between the words. "
   ]
  },
  {
   "cell_type": "code",
   "execution_count": 218,
   "metadata": {},
   "outputs": [],
   "source": [
    "file_path = 'gospel-of-buddha.txt'\n",
    "file =  open(file_path, 'r')   # open the text file as read-only \n",
    "text = file.read()             # reads the entire text contained in the file\n",
    "words = text.split()           # splits the text in individual words based on space as delimiter \n",
    "words = np.array(words)        # converts the list of words into numpy array"
   ]
  },
  {
   "cell_type": "markdown",
   "metadata": {},
   "source": [
    "Let's learn more about the length and content of the book. In which language is the book written? How many words are contained in the book? What is the word at the 20000th position in the book? "
   ]
  },
  {
   "cell_type": "code",
   "execution_count": null,
   "metadata": {},
   "outputs": [],
   "source": []
  },
  {
   "cell_type": "markdown",
   "metadata": {},
   "source": [
    "Let's extract information about the statistics of the text. How often are the words `'are'`, `'mother'` and `'a'` contained in the text? "
   ]
  },
  {
   "cell_type": "code",
   "execution_count": null,
   "metadata": {},
   "outputs": [],
   "source": []
  },
  {
   "cell_type": "markdown",
   "metadata": {},
   "source": [
    "Let's do this a bit more systematic and find the most common word in the text. This can be implemented with numpy functions as shown below. Let's understand what each line is doing. "
   ]
  },
  {
   "cell_type": "code",
   "execution_count": null,
   "metadata": {},
   "outputs": [],
   "source": [
    "unique, pos = np.unique(words,return_inverse=True)  # Finds all unique elements and their positions\n",
    "counts = np.bincount(pos)                           # Count number of occurrences of each value in array \n",
    "maxpos = counts.argmax()                            # find element with the most occurrences \n",
    "print(unique[maxpos],':',counts[maxpos])"
   ]
  },
  {
   "cell_type": "markdown",
   "metadata": {},
   "source": [
    "## Working with tabular data using pandas "
   ]
  },
  {
   "cell_type": "markdown",
   "metadata": {},
   "source": [
    "We will learn how to use the `pandas` library. `pandas` is a powerful package to use with time-series and the section below gives you some first notions on how to use it. "
   ]
  },
  {
   "cell_type": "markdown",
   "metadata": {},
   "source": [
    "Note that you need the `time-series2.xls` file from the github repository to complete the below exercises.  The file has to be located in the same directory as this notebook."
   ]
  },
  {
   "cell_type": "markdown",
   "metadata": {},
   "source": [
    "#### Load data \n",
    "First we will load the data saved in an excel file using the pandas `read_excel` function."
   ]
  },
  {
   "cell_type": "code",
   "execution_count": 3,
   "metadata": {},
   "outputs": [],
   "source": [
    "import pandas as pd\n",
    "\n",
    "data2 = pd.read_excel('time-series2.xls',sheet_name='NZRainfall',index_col='DATE') # load excel spreadsheet"
   ]
  },
  {
   "cell_type": "markdown",
   "metadata": {},
   "source": [
    "Let's convert the first `DATE` column into the data-time format recognized by pandas. "
   ]
  },
  {
   "cell_type": "code",
   "execution_count": 49,
   "metadata": {},
   "outputs": [],
   "source": [
    "data2.index = pd.to_datetime(data2.index) # convert the index column to the date format"
   ]
  },
  {
   "cell_type": "markdown",
   "metadata": {},
   "source": [
    "#### Get an idea about the data\n",
    "\n",
    "We already have an idea from the sheetname what the data is about. Let's find out more about the data. \n",
    "\n",
    "- How does that data look like? What information are contained in the data? \n",
    "- What is the interval/sampling frequency of the data? \n",
    "- What are the dimensions of the `DataFrame`? \n",
    "- Get the statistics of the data by using the pandas `[name of the DataFrame].describe()` function. \n",
    "\n",
    "**Hint :** You can simply display the `DataFrame` to the screen, or see the first lines with `data2.head()`. "
   ]
  },
  {
   "cell_type": "code",
   "execution_count": null,
   "metadata": {},
   "outputs": [],
   "source": []
  },
  {
   "cell_type": "markdown",
   "metadata": {},
   "source": [
    "The table is 2D array (3 column and 154 rows/entries) of time stamps and rainfall numbers of three towns - Auckland, Christchurch, Wellington - in New Zealand. The rainfall is measured monthly (interval is 1 month) and given for the period from Jan 2000 through Dec 2012. "
   ]
  },
  {
   "cell_type": "markdown",
   "metadata": {},
   "source": [
    "### Plotting and slicing the data \n",
    "\n",
    "`pandas` has a build-in plot function which is called by `[name of the DataFrame].plot()`. \n",
    "\n",
    "- Plot the entire data.\n",
    "- Plot the data for the year 2004.\n",
    "- Plot the data in from the year 2006 through 2011. "
   ]
  },
  {
   "cell_type": "code",
   "execution_count": null,
   "metadata": {},
   "outputs": [],
   "source": []
  },
  {
   "cell_type": "code",
   "execution_count": null,
   "metadata": {},
   "outputs": [],
   "source": []
  },
  {
   "cell_type": "code",
   "execution_count": null,
   "metadata": {},
   "outputs": [],
   "source": []
  },
  {
   "cell_type": "markdown",
   "metadata": {},
   "source": [
    "Further accessing parts of the data. Let's plot the rainfall data of `Chirstchurch` only. "
   ]
  },
  {
   "cell_type": "code",
   "execution_count": null,
   "metadata": {},
   "outputs": [],
   "source": []
  },
  {
   "cell_type": "markdown",
   "metadata": {},
   "source": [
    "Lastly, extract and show all the months for which the rainfall in Christchurch exceeded 100 mm."
   ]
  },
  {
   "cell_type": "code",
   "execution_count": null,
   "metadata": {},
   "outputs": [],
   "source": []
  },
  {
   "cell_type": "markdown",
   "metadata": {},
   "source": [
    "## The end"
   ]
  }
 ],
 "metadata": {
  "kernelspec": {
   "display_name": "Python 3 (ipykernel)",
   "language": "python",
   "name": "python3"
  },
  "language_info": {
   "codemirror_mode": {
    "name": "ipython",
    "version": 3
   },
   "file_extension": ".py",
   "mimetype": "text/x-python",
   "name": "python",
   "nbconvert_exporter": "python",
   "pygments_lexer": "ipython3",
   "version": "3.8.12"
  }
 },
 "nbformat": 4,
 "nbformat_minor": 4
}
