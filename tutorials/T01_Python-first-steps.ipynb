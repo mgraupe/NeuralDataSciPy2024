{
 "cells": [
  {
   "cell_type": "markdown",
   "metadata": {
    "pycharm": {
     "name": "#%% md\n"
    }
   },
   "source": [
    "# T1 Python - first steps"
   ]
  },
  {
   "cell_type": "markdown",
   "metadata": {
    "pycharm": {
     "name": "#%% md\n"
    }
   },
   "source": [
    "## The Jupyter notebook envionment"
   ]
  },
  {
   "cell_type": "markdown",
   "metadata": {
    "pycharm": {
     "name": "#%% md\n"
    }
   },
   "source": [
    "Individual elemtents in the notebook are called **cells**. Cells can contain *code*, *markdown text* or *raw text*.  \n",
    "\n",
    "Cells are executed by pressing **Shift + Enter**. \n",
    "\n",
    "New cells can be inserted in existing notebooks through the menu above. \n",
    "\n",
    "Existing cells be be edited by double-clicking on them. "
   ]
  },
  {
   "cell_type": "markdown",
   "metadata": {
    "pycharm": {
     "name": "#%% md\n"
    }
   },
   "source": [
    "### Examples of cells in the notebook"
   ]
  },
  {
   "cell_type": "markdown",
   "metadata": {
    "pycharm": {
     "name": "#%% md\n"
    }
   },
   "source": [
    "Example of markdown text."
   ]
  },
  {
   "cell_type": "code",
   "execution_count": 1,
   "metadata": {
    "pycharm": {
     "name": "#%%\n"
    }
   },
   "outputs": [
    {
     "name": "stdout",
     "output_type": "stream",
     "text": [
      "Hello World all!\n"
     ]
    }
   ],
   "source": [
    "# Example of code \n",
    "# Comments are preceeded by '#'\n",
    "\n",
    "text = 'Hello World all!'\n",
    "\n",
    "print(text)"
   ]
  },
  {
   "cell_type": "markdown",
   "metadata": {
    "pycharm": {
     "name": "#%% md\n"
    }
   },
   "source": [
    "## Syntax \n",
    "- Just code, no clutter!\n",
    "- No curly braces, no brackets : **Indentation structures the code**\n",
    "- Other whitespaces has no meaning\n",
    "- Commands end with the line, but can be extended using \\\n",
    "- Multiple statements on one line can be separated by ;\n",
    "- Comments start with a ``#``"
   ]
  },
  {
   "cell_type": "code",
   "execution_count": 3,
   "metadata": {
    "pycharm": {
     "name": "#%%\n"
    }
   },
   "outputs": [
    {
     "name": "stdout",
     "output_type": "stream",
     "text": [
      "Hello World!\n",
      "2\n"
     ]
    },
    {
     "data": {
      "text/plain": [
       "[<matplotlib.lines.Line2D at 0x7f911f4c72b0>]"
      ]
     },
     "execution_count": 3,
     "metadata": {},
     "output_type": "execute_result"
    },
    {
     "data": {
      "image/png": "[encoded data removed]",
      "text/plain": [
       "<Figure size 432x288 with 1 Axes>"
      ]
     },
     "metadata": {
      "needs_background": "light"
     },
     "output_type": "display_data"
    }
   ],
   "source": [
    "# import modules \n",
    "import numpy as np                 # 1. Importing a module\n",
    "import matplotlib.pyplot as plt    # 1. Importing a module\n",
    "\n",
    "%matplotlib inline                 # tell python to show plots in the brower window\n",
    "\n",
    "x = 1                              # 2. Declaration of variables\n",
    "\n",
    "t = np.linspace(0,10,20)           # 3. Creating arrays\n",
    "\n",
    "y = x+2                            # 4. Mathematical operations with variables and arrays \n",
    "t2 = t*2                           # 4. Mathematical operations with variables and arrays \n",
    "\n",
    "print(x==y)                        # 5. Boolean values - true or false\n",
    "    \n",
    "if x>0:                            # 6. Control structures : conditional statements\n",
    "    print('Hello World!')          #    indented code will be executed if clause is true\n",
    "    \n",
    "for i in t:                        # 7. for and while loops\n",
    "    print(i)\n",
    "\n",
    "\n",
    "def update_values(z):              # 8. Functions \n",
    "    return z+1                     #    all content of the function declaration has to be indented\n",
    "    \n",
    "print(update_value(x))            \n",
    "\n",
    "np.save('array.npy',t)             # 9. Saving data\n",
    "\n",
    "tau = 2.\n",
    "s = np.exp(-t/tau)                 # 4. Mathematical operations with variables and arrays \n",
    "\n",
    "plt.plot(t,s)                      # 10. Plotting "
   ]
  },
  {
   "cell_type": "markdown",
   "metadata": {
    "pycharm": {
     "name": "#%% md\n"
    }
   },
   "source": [
    "## 1. Importing a module = importing specific functionality"
   ]
  },
  {
   "cell_type": "markdown",
   "metadata": {
    "pycharm": {
     "name": "#%% md\n"
    }
   },
   "source": [
    "A module is a collection of package containing Python functions, classes, variables and statements. Grouping related code into a module or library makes the code easier to understand and use. Modules combine specific functionality such as math functions, plotting or web access, for example.\n",
    "\n",
    "In the course, we will routinely use ``numpy`` and ``matplotlib`` modules. \n",
    "\n",
    "**NumPy** is a python library used for working with arrays. It also has functions for working in the domain of linear algebra, fourier transform, and matrices.\n",
    "\n",
    "**Matplotlib** is a comprehensive library for creating static, animated, and interactive visualizations in Python.\n",
    "\n",
    "\n"
   ]
  },
  {
   "cell_type": "code",
   "execution_count": 20,
   "metadata": {
    "pycharm": {
     "name": "#%%\n"
    }
   },
   "outputs": [],
   "source": [
    "import numpy as np               # imports the numpy library and calls it 'np'\n",
    "import matplotlib.pyplot as plt  # imports the matplotlib library and calls it 'plt' "
   ]
  },
  {
   "cell_type": "markdown",
   "metadata": {
    "pycharm": {
     "name": "#%% md\n"
    }
   },
   "source": [
    "New names can be given to imported modules. \n",
    "\n",
    "The standard name of the ``numpy`` library is ``np``.\n",
    "\n",
    "The standard name for ``matplotlib.pyplot`` is ``plt``. \n",
    "\n",
    "These names are then used to access functions in the library. The ``np.mean()`` function, for example, allows to calculate the mean of data using the function ``mean()`` which is part of the ``numpy`` library. "
   ]
  },
  {
   "cell_type": "markdown",
   "metadata": {
    "pycharm": {
     "name": "#%% md\n"
    }
   },
   "source": [
    "### Help !!!"
   ]
  },
  {
   "cell_type": "markdown",
   "metadata": {
    "pycharm": {
     "name": "#%% md\n"
    }
   },
   "source": [
    "Help on a function can be access through ``help([name of function])``. "
   ]
  },
  {
   "cell_type": "code",
   "execution_count": 5,
   "metadata": {
    "pycharm": {
     "name": "#%%\n"
    }
   },
   "outputs": [
    {
     "name": "stdout",
     "output_type": "stream",
     "text": [
      "Help on function mean in module numpy.core.fromnumeric:\n",
      "\n",
      "mean(a, axis=None, dtype=None, out=None, keepdims=<no value>)\n",
      "    Compute the arithmetic mean along the specified axis.\n",
      "    \n",
      "    Returns the average of the array elements.  The average is taken over\n",
      "    the flattened array by default, otherwise over the specified axis.\n",
      "    `float64` intermediate and return values are used for integer inputs.\n",
      "    \n",
      "    Parameters\n",
      "    ----------\n",
      "    a : array_like\n",
      "        Array containing numbers whose mean is desired. If `a` is not an\n",
      "        array, a conversion is attempted.\n",
      "    axis : None or int or tuple of ints, optional\n",
      "        Axis or axes along which the means are computed. The default is to\n",
      "        compute the mean of the flattened array.\n",
      "    \n",
      "        .. versionadded:: 1.7.0\n",
      "    \n",
      "        If this is a tuple of ints, a mean is performed over multiple axes,\n",
      "        instead of a single axis or all the axes as before.\n",
      "    dtype : data-type, optional\n",
      "        Type to use in computing the mean.  For integer inputs, the default\n",
      "        is `float64`; for floating point inputs, it is the same as the\n",
      "        input dtype.\n",
      "    out : ndarray, optional\n",
      "        Alternate output array in which to place the result.  The default\n",
      "        is ``None``; if provided, it must have the same shape as the\n",
      "        expected output, but the type will be cast if necessary.\n",
      "        See `doc.ufuncs` for details.\n",
      "    \n",
      "    keepdims : bool, optional\n",
      "        If this is set to True, the axes which are reduced are left\n",
      "        in the result as dimensions with size one. With this option,\n",
      "        the result will broadcast correctly against the input array.\n",
      "    \n",
      "        If the default value is passed, then `keepdims` will not be\n",
      "        passed through to the `mean` method of sub-classes of\n",
      "        `ndarray`, however any non-default value will be.  If the\n",
      "        sub-class' method does not implement `keepdims` any\n",
      "        exceptions will be raised.\n",
      "    \n",
      "    Returns\n",
      "    -------\n",
      "    m : ndarray, see dtype parameter above\n",
      "        If `out=None`, returns a new array containing the mean values,\n",
      "        otherwise a reference to the output array is returned.\n",
      "    \n",
      "    See Also\n",
      "    --------\n",
      "    average : Weighted average\n",
      "    std, var, nanmean, nanstd, nanvar\n",
      "    \n",
      "    Notes\n",
      "    -----\n",
      "    The arithmetic mean is the sum of the elements along the axis divided\n",
      "    by the number of elements.\n",
      "    \n",
      "    Note that for floating-point input, the mean is computed using the\n",
      "    same precision the input has.  Depending on the input data, this can\n",
      "    cause the results to be inaccurate, especially for `float32` (see\n",
      "    example below).  Specifying a higher-precision accumulator using the\n",
      "    `dtype` keyword can alleviate this issue.\n",
      "    \n",
      "    By default, `float16` results are computed using `float32` intermediates\n",
      "    for extra precision.\n",
      "    \n",
      "    Examples\n",
      "    --------\n",
      "    >>> a = np.array([[1, 2], [3, 4]])\n",
      "    >>> np.mean(a)\n",
      "    2.5\n",
      "    >>> np.mean(a, axis=0)\n",
      "    array([ 2.,  3.])\n",
      "    >>> np.mean(a, axis=1)\n",
      "    array([ 1.5,  3.5])\n",
      "    \n",
      "    In single precision, `mean` can be inaccurate:\n",
      "    \n",
      "    >>> a = np.zeros((2, 512*512), dtype=np.float32)\n",
      "    >>> a[0, :] = 1.0\n",
      "    >>> a[1, :] = 0.1\n",
      "    >>> np.mean(a)\n",
      "    0.54999924\n",
      "    \n",
      "    Computing the mean in float64 is more accurate:\n",
      "    \n",
      "    >>> np.mean(a, dtype=np.float64)\n",
      "    0.55000000074505806\n",
      "\n"
     ]
    }
   ],
   "source": [
    "help(np.mean)"
   ]
  },
  {
   "cell_type": "markdown",
   "metadata": {
    "pycharm": {
     "name": "#%% md\n"
    }
   },
   "source": [
    "## 2. Declaration of variables, data types, arrays and lists\n",
    "\n",
    "Values can be asigned to **variables** through the ``=`` sign. You do not need to declare variables before using them, or declare their type (int, float, string). "
   ]
  },
  {
   "cell_type": "code",
   "execution_count": 6,
   "metadata": {
    "pycharm": {
     "name": "#%%\n"
    }
   },
   "outputs": [
    {
     "name": "stdout",
     "output_type": "stream",
     "text": [
      "2 <class 'int'>\n",
      "3.5 <class 'float'>\n",
      "words <class 'str'>\n"
     ]
    }
   ],
   "source": [
    "a = 2\n",
    "print(a, type(a))\n",
    "b = 3.5\n",
    "print(b, type(b))\n",
    "c = 'words'\n",
    "print(c, type(c))"
   ]
  },
  {
   "cell_type": "markdown",
   "metadata": {
    "pycharm": {
     "name": "#%% md\n"
    }
   },
   "source": [
    "The ``print()`` function prints the specified message or variable to the screen. \n",
    "\n",
    "An **array** is a data structure that stores multiple values of the *same* data type."
   ]
  },
  {
   "cell_type": "code",
   "execution_count": 7,
   "metadata": {
    "pycharm": {
     "name": "#%%\n"
    }
   },
   "outputs": [
    {
     "name": "stdout",
     "output_type": "stream",
     "text": [
      "[1 2 3 4 5]\n",
      "['Megan' 'Paul' 'Claudia' 'Bob']\n"
     ]
    }
   ],
   "source": [
    "intArray = np.array([1,2,3,4,5])\n",
    "print(intArray)\n",
    "\n",
    "strArray = np.array(['Megan','Paul','Claudia','Bob'])\n",
    "print(strArray)"
   ]
  },
  {
   "cell_type": "markdown",
   "metadata": {
    "pycharm": {
     "name": "#%% md\n"
    }
   },
   "source": [
    "A **list** is a data structure that stores multiple items which can be *different* data types. "
   ]
  },
  {
   "cell_type": "code",
   "execution_count": 8,
   "metadata": {
    "pycharm": {
     "name": "#%%\n"
    }
   },
   "outputs": [],
   "source": [
    "l = [2, 2.6, 'home']"
   ]
  },
  {
   "cell_type": "markdown",
   "metadata": {
    "pycharm": {
     "name": "#%% md\n"
    }
   },
   "source": [
    "## 3. Creating arrays and accessing specific elements in arrays\n",
    "\n",
    "Arrays are very efficient (and fast) in manipulations  such as calculations. Arrays are available in the **numpy** module.  \n",
    "\n",
    "It is very useful to generate automatically (large) arrays. Handy *numpy* functions to create and reshape arrays\n",
    "- `np.arange()` : gives a list of increasing integers \n",
    "- `np.linspace()` : range of equidistant numbers \n",
    "- `np.zeros([length])` or `np.ones([length])` : creates an array of the given length filled with ``0``'s or ``1``'s\n",
    "- `np.reshape()` : reshapes a given array in the given dimensions"
   ]
  },
  {
   "cell_type": "code",
   "execution_count": 9,
   "metadata": {
    "pycharm": {
     "name": "#%%\n"
    }
   },
   "outputs": [
    {
     "name": "stdout",
     "output_type": "stream",
     "text": [
      "[0 1 2 3 4 5 6 7 8 9]\n",
      "[0.  0.1 0.2 0.3 0.4 0.5 0.6 0.7 0.8 0.9 1. ]\n",
      "[0. 0. 0. 0.]\n",
      "[1. 1. 1. 1. 1. 1.]\n"
     ]
    }
   ],
   "source": [
    "c = np.arange(10)   #  create 1d vector of 10 elements, from 0 to 9\n",
    "print(c)\n",
    "d = np.linspace(0,1,11)  #  create 1d vector of 10 elements, from 0 to 1\n",
    "print(d)\n",
    "e = np.zeros(4)  # creates an array of length 4 containing zeros\n",
    "print(e)\n",
    "f = np.ones(6)   # creates an array of length 6 containing ones\n",
    "print(f)"
   ]
  },
  {
   "cell_type": "markdown",
   "metadata": {
    "pycharm": {
     "name": "#%% md\n"
    }
   },
   "source": [
    "Each array element has a value and an index. Note that the index of the first element in an array is ``0``. "
   ]
  },
  {
   "cell_type": "code",
   "execution_count": 10,
   "metadata": {
    "pycharm": {
     "name": "#%%\n"
    }
   },
   "outputs": [
    {
     "name": "stdout",
     "output_type": "stream",
     "text": [
      "3\n",
      "0.5\n"
     ]
    }
   ],
   "source": [
    "print(c[3])\n",
    "print(d[5]) "
   ]
  },
  {
   "cell_type": "markdown",
   "metadata": {
    "pycharm": {
     "name": "#%% md\n"
    }
   },
   "source": [
    "The lenght of an array (or a list) can be checked with `len()`."
   ]
  },
  {
   "cell_type": "code",
   "execution_count": 11,
   "metadata": {
    "pycharm": {
     "name": "#%%\n"
    }
   },
   "outputs": [
    {
     "name": "stdout",
     "output_type": "stream",
     "text": [
      "10 11\n"
     ]
    }
   ],
   "source": [
    "print(len(c),len(d))"
   ]
  },
  {
   "cell_type": "markdown",
   "metadata": {
    "pycharm": {
     "name": "#%% md\n"
    }
   },
   "source": [
    "Array *slicing* is a powerful tool to access array content. *Slicing* means that subsets of the array content is accessed using the inidicies of that subset."
   ]
  },
  {
   "cell_type": "code",
   "execution_count": 12,
   "metadata": {
    "pycharm": {
     "name": "#%%\n"
    }
   },
   "outputs": [
    {
     "name": "stdout",
     "output_type": "stream",
     "text": [
      "[0 1 2 3 4 5 6 7 8 9]\n",
      "[1 2 3 4 5 6 7 8 9]\n",
      "[0 1 2 3 4 5 6 7 8]\n",
      "[3 4 5 6 7]\n",
      "[0 2 4 6 8]\n",
      "[9 8 7 6 5 4 3 2 1 0]\n"
     ]
    }
   ],
   "source": [
    "print(c)\n",
    "print(c[1:])    # all but the first element\n",
    "print(c[:-1])   # all but the last element\n",
    "print(c[3:8])   # from the 4nd through the 8th element\n",
    "print(c[::2])   # every second element\n",
    "print(c[::-1])  # backward "
   ]
  },
  {
   "cell_type": "markdown",
   "metadata": {
    "pycharm": {
     "name": "#%% md\n"
    }
   },
   "source": [
    "We have used one-dimensional (a row of numbers) arrays so far. But arrays can of course be multi-dimensional. "
   ]
  },
  {
   "cell_type": "code",
   "execution_count": 13,
   "metadata": {
    "pycharm": {
     "name": "#%%\n"
    }
   },
   "outputs": [
    {
     "name": "stdout",
     "output_type": "stream",
     "text": [
      "[[ 0  1  2  3  4]\n",
      " [ 5  6  7  8  9]\n",
      " [10 11 12 13 14]\n",
      " [15 16 17 18 19]]\n",
      "19\n",
      "[ 1  6 11 16]\n",
      "[10 11 12 13 14]\n"
     ]
    }
   ],
   "source": [
    "g = np.arange(20)      # create a 1D array\n",
    "h = g.reshape(4,5)     # reshape the array 'g' to a 2D array of 4 rows and 5 columns\n",
    "\n",
    "print(h)\n",
    "print(h[3,4])          # specific element\n",
    "print(h[:,1])          # 2nd column\n",
    "print(h[2])            # 3rd row"
   ]
  },
  {
   "cell_type": "markdown",
   "metadata": {
    "pycharm": {
     "name": "#%% md\n"
    }
   },
   "source": [
    "## 4. Mathematical operations with variables and arrays\n",
    "\n",
    "Standard math is of course part of the Python interpreter:\n",
    "- `+`, `-`, `*`, `/` : addition, substraction, multiplication, division\n",
    "- `**`, `%`, `//` : exponentiation, modulus, floor division\n",
    "\n",
    "Operations with arrays are performed on *each* element of the array. "
   ]
  },
  {
   "cell_type": "code",
   "execution_count": 14,
   "metadata": {
    "pycharm": {
     "name": "#%%\n"
    }
   },
   "outputs": [
    {
     "name": "stdout",
     "output_type": "stream",
     "text": [
      "6\n",
      "[0.  0.5 1.  1.5 2.  2.5 3.  3.5 4.  4.5]\n"
     ]
    }
   ],
   "source": [
    "a = 3\n",
    "b = np.arange(10)\n",
    "\n",
    "c = a*2\n",
    "d = b/2\n",
    "\n",
    "print(c)\n",
    "print(d)"
   ]
  },
  {
   "cell_type": "markdown",
   "metadata": {
    "pycharm": {
     "name": "#%% md\n"
    }
   },
   "source": [
    "Higher mathematical functions are provided by the **numpy** (or **math**) module\n",
    "\n",
    "    np.exp(), np.sin() ...\n",
    "    "
   ]
  },
  {
   "cell_type": "code",
   "execution_count": 15,
   "metadata": {
    "pycharm": {
     "name": "#%%\n"
    }
   },
   "outputs": [
    {
     "name": "stdout",
     "output_type": "stream",
     "text": [
      "0.9092974268256817\n",
      "[ 0.          0.84147098  0.90929743  0.14112001 -0.7568025  -0.95892427\n",
      " -0.2794155   0.6569866   0.98935825  0.41211849]\n"
     ]
    }
   ],
   "source": [
    "print(np.sin(2))\n",
    "print(np.sin(b))"
   ]
  },
  {
   "cell_type": "markdown",
   "metadata": {
    "pycharm": {
     "name": "#%% md\n"
    }
   },
   "source": [
    "## 5. Boolean values - true or false\n",
    "\n",
    "The two boolean values **True** and **False**. In programming, one often need to know if an expression is `True` or `False`. \n",
    "\n",
    "In order to compare expressions, the following signs exist : \n",
    "- `x == y` : Returns `True` if x **is equal** to y\n",
    "- `x != y` : Returns `True` is x **is not equal** to y\n",
    "- `x > y` : Returns `True` is x **is larger** than y\n",
    "- `x < y` : Returns `True` is x **is smaller** than y\n",
    "- `x >= y` : Returns `True` is x **is larger or equal** to y\n",
    "- `x <= y` : Returns `True` is x **is smaller or equal** to y\n",
    "\n",
    "**Important:** The simple equal sign `=` assignes a value to a variable. The double equal sign `==` is a comparision. "
   ]
  },
  {
   "cell_type": "code",
   "execution_count": 14,
   "metadata": {
    "pycharm": {
     "name": "#%%\n"
    }
   },
   "outputs": [
    {
     "name": "stdout",
     "output_type": "stream",
     "text": [
      "True\n",
      "True\n"
     ]
    }
   ],
   "source": [
    "i = 1\n",
    "j = 1\n",
    "k = 2\n",
    "\n",
    "print(i == j)\n",
    "print(k >= i)"
   ]
  },
  {
   "cell_type": "markdown",
   "metadata": {
    "pycharm": {
     "name": "#%% md\n"
    }
   },
   "source": [
    "Comparisions can be combined with the boolean operators  **not**, **and** and **or**. "
   ]
  },
  {
   "cell_type": "code",
   "execution_count": 15,
   "metadata": {
    "pycharm": {
     "name": "#%%\n"
    }
   },
   "outputs": [
    {
     "name": "stdout",
     "output_type": "stream",
     "text": [
      "True\n"
     ]
    }
   ],
   "source": [
    "print(i==j and k >i)"
   ]
  },
  {
   "cell_type": "code",
   "execution_count": 17,
   "metadata": {
    "pycharm": {
     "name": "#%%\n"
    }
   },
   "outputs": [
    {
     "name": "stdout",
     "output_type": "stream",
     "text": [
      "[ True  True  True False  True  True  True  True  True  True]\n"
     ]
    }
   ],
   "source": [
    "a = np.arange(10)\n",
    "b = np.arange(10)\n",
    "b[3] = 0\n",
    "\n",
    "print(a==b)"
   ]
  },
  {
   "cell_type": "markdown",
   "metadata": {
    "pycharm": {
     "name": "#%% md\n"
    }
   },
   "source": [
    "## 6. Control structures : conditional statements and loops\n",
    "\n",
    "### if, elif and else statement\n",
    "\n",
    "The `if` statement is the simplest example of a conditional statement. The *indented* block of lines after the colon `:` will be executed whenever the condition is *TRUE*."
   ]
  },
  {
   "cell_type": "code",
   "execution_count": 19,
   "metadata": {
    "pycharm": {
     "name": "#%%\n"
    }
   },
   "outputs": [
    {
     "name": "stdout",
     "output_type": "stream",
     "text": [
      "6\n",
      "5\n",
      "This will always be printed.\n"
     ]
    }
   ],
   "source": [
    "x = 6\n",
    "if x>4:\n",
    "    print(x)\n",
    "    x=5\n",
    "    print(x)\n",
    "print('This will always be printed.')"
   ]
  },
  {
   "cell_type": "markdown",
   "metadata": {
    "pycharm": {
     "name": "#%% md\n"
    }
   },
   "source": [
    "The `elif` keyword is used to say \"if the previous conditions were not true, then try this condition\"."
   ]
  },
  {
   "cell_type": "code",
   "execution_count": 22,
   "metadata": {
    "pycharm": {
     "name": "#%%\n"
    }
   },
   "outputs": [
    {
     "name": "stdout",
     "output_type": "stream",
     "text": [
      "x is equal to 4\n"
     ]
    }
   ],
   "source": [
    "x = 4\n",
    "if x>4:\n",
    "    print('larger than 4')\n",
    "elif x==4:\n",
    "    print('x is equal to 4')"
   ]
  },
  {
   "cell_type": "markdown",
   "metadata": {
    "pycharm": {
     "name": "#%% md\n"
    }
   },
   "source": [
    "The `else` keyword catches anything which isn't caught by the preceding conditions."
   ]
  },
  {
   "cell_type": "code",
   "execution_count": 23,
   "metadata": {
    "pycharm": {
     "name": "#%%\n"
    }
   },
   "outputs": [
    {
     "name": "stdout",
     "output_type": "stream",
     "text": [
      "x is smaller than 4\n"
     ]
    }
   ],
   "source": [
    "x = 3\n",
    "if x>4:\n",
    "    print('larger than 4')\n",
    "elif x==4:\n",
    "    print('x is equal to 4')\n",
    "else:\n",
    "    print('x is smaller than 4')"
   ]
  },
  {
   "cell_type": "markdown",
   "metadata": {
    "pycharm": {
     "name": "#%% md\n"
    }
   },
   "source": [
    "### 7.  for and while loops\n",
    "\n",
    "A `for` loop is used for iterating over a sequence (that can a list or an array, for example). \n",
    "\n",
    "\n",
    "With the `for` loop we can execute a set of statements, once for each item in a list or an array."
   ]
  },
  {
   "cell_type": "code",
   "execution_count": 24,
   "metadata": {
    "pycharm": {
     "name": "#%%\n"
    }
   },
   "outputs": [
    {
     "name": "stdout",
     "output_type": "stream",
     "text": [
      "4 16\n",
      "8 64\n",
      "12 144\n"
     ]
    }
   ],
   "source": [
    "l = [4,8,12]\n",
    "for i in l:  # for loop over all list elements\n",
    "    print(i,i*i)"
   ]
  },
  {
   "cell_type": "code",
   "execution_count": 26,
   "metadata": {
    "pycharm": {
     "name": "#%%\n"
    }
   },
   "outputs": [
    {
     "name": "stdout",
     "output_type": "stream",
     "text": [
      "0.0 0.0\n",
      "0.5 0.25\n",
      "1.0 1.0\n",
      "1.5 2.25\n",
      "2.0 4.0\n"
     ]
    }
   ],
   "source": [
    "a = np.arange(5)/2.\n",
    "for iiii in a:    # for loop over all array elements\n",
    "    print(iiii,iiii**2)"
   ]
  },
  {
   "cell_type": "markdown",
   "metadata": {
    "pycharm": {
     "name": "#%% md\n"
    }
   },
   "source": [
    "It is often better to use the index instead of the value for the loop iteration. "
   ]
  },
  {
   "cell_type": "code",
   "execution_count": 28,
   "metadata": {
    "pycharm": {
     "name": "#%%\n"
    }
   },
   "outputs": [
    {
     "name": "stdout",
     "output_type": "stream",
     "text": [
      "[0 1 2 3 4]\n",
      "0 0.0 0.0\n",
      "1 0.5 0.25\n",
      "2 1.0 1.0\n",
      "3 1.5 2.25\n",
      "4 2.0 4.0\n"
     ]
    }
   ],
   "source": [
    "a = np.arange(5)/2.\n",
    "b = np.arange(len(a)) # indicies of a \n",
    "print(b)\n",
    "\n",
    "for j in b:    # for loop over all array elements\n",
    "    print(j,a[j],a[j]**2)"
   ]
  },
  {
   "cell_type": "markdown",
   "metadata": {
    "pycharm": {
     "name": "#%% md\n"
    }
   },
   "source": [
    "With the `while` loop we can execute a set of statements as long as a condition is `True`. "
   ]
  },
  {
   "cell_type": "code",
   "execution_count": 29,
   "metadata": {
    "pycharm": {
     "name": "#%%\n"
    }
   },
   "outputs": [
    {
     "name": "stdout",
     "output_type": "stream",
     "text": [
      "0\n",
      "1\n",
      "2\n",
      "3\n"
     ]
    }
   ],
   "source": [
    "x = 0\n",
    "while x < 4:\n",
    "    print(x)\n",
    "    x = x+1\n"
   ]
  },
  {
   "cell_type": "markdown",
   "metadata": {
    "pycharm": {
     "name": "#%% md\n"
    }
   },
   "source": [
    "## 8. Functions\n",
    "Re-occuring code can be put into functions. Functions help to keep code concise and consistent. Every time operations are excuted more than once, they should be placed into a function. Functions are declared with the `def` keyword followed by the name of the function and its definition. Function code follows the colon `:` sign and is indented. "
   ]
  },
  {
   "cell_type": "code",
   "execution_count": 35,
   "metadata": {
    "pycharm": {
     "name": "#%%\n"
    }
   },
   "outputs": [
    {
     "name": "stdout",
     "output_type": "stream",
     "text": [
      "This function multiplies 4 and 5 .\n",
      "None\n",
      "This function multiplies 5 and 5 .\n",
      "None\n"
     ]
    }
   ],
   "source": [
    "def multiplication1(x,y):\n",
    "    print('This function multiplies',x,'and', y,'.')\n",
    "    return x*y\n",
    "\n",
    "a = 4\n",
    "b = 5\n",
    "\n",
    "print(multiplication1(a,b))\n",
    "print(multiplication1(5,5))"
   ]
  },
  {
   "cell_type": "markdown",
   "metadata": {
    "pycharm": {
     "name": "#%% md\n"
    }
   },
   "source": [
    "## 9. Saving and reading data \n",
    "\n",
    "Save and read an array to and from a binary file in NumPy `.npy` format."
   ]
  },
  {
   "cell_type": "code",
   "execution_count": 37,
   "metadata": {
    "pycharm": {
     "name": "#%%\n"
    }
   },
   "outputs": [
    {
     "name": "stdout",
     "output_type": "stream",
     "text": [
      "[ 0  1  2  3  4  5  6  7  8  9 10 11 12 13 14 15 16 17 18 19]\n"
     ]
    }
   ],
   "source": [
    "a = np.arange(20)\n",
    "np.save('array.npy',a)\n",
    "\n",
    "b = np.load('array.npy')\n",
    "print(b)"
   ]
  },
  {
   "cell_type": "markdown",
   "metadata": {
    "pycharm": {
     "name": "#%% md\n"
    }
   },
   "source": [
    "## 10. Plotting\n",
    "\n",
    "**Matplotlib** is probably the most used Python package for 2D-graphics. It provides both a quick way to visualize data from Python and produce publication-quality figures in many formats. \n",
    "\n",
    "Here, we are going to explore matplotlib in interactive mode covering basic usage.\n",
    "\n",
    "### Loading the package and activating interactive mode\n",
    "\n",
    "For interactive matplotlib sessions, turn on the `%matplotlib inline` mode."
   ]
  },
  {
   "cell_type": "code",
   "execution_count": 45,
   "metadata": {
    "pycharm": {
     "name": "#%%\n"
    }
   },
   "outputs": [],
   "source": [
    "# import modules\n",
    "import numpy as np\n",
    "import matplotlib.pyplot as plt\n",
    "\n",
    "# with the below line, figures are displayed directly in the browser window\n",
    "%matplotlib inline "
   ]
  },
  {
   "cell_type": "markdown",
   "metadata": {
    "pycharm": {
     "name": "#%% md\n"
    }
   },
   "source": [
    "### Simple plot\n",
    "\n",
    "Let's draw the cosine and sine functions on the same plot. \n",
    "\n",
    "First step is to get data for the sine and cosine functions.\n",
    "\n",
    "The `plot([x],[y])` function gererates a baxis 2-dimensional plot of y- over x. Note that x and y need to have the same lenght. \n",
    "\n",
    "`plot.show()` displays the figure. "
   ]
  },
  {
   "cell_type": "code",
   "execution_count": 53,
   "metadata": {
    "pycharm": {
     "name": "#%%\n"
    }
   },
   "outputs": [
    {
     "data": {
      "image/png": "[encoded data removed]",
      "text/plain": [
       "<Figure size 432x288 with 1 Axes>"
      ]
     },
     "metadata": {
      "needs_background": "light"
     },
     "output_type": "display_data"
    }
   ],
   "source": [
    "x = np.linspace(0,2*np.pi,1001) # returns a uniformly spaced array between 0 and 2*Pi\n",
    "y1 = np.sin(x) # calculates the sine function for each array element\n",
    "y2 = np.cos(x) # calculates the cosine function for each array element\n",
    "\n",
    "plt.plot(x,y1) # plot the sine function\n",
    "plt.plot(x,y2) # plot the cosine function\n",
    "\n",
    "plt.show()"
   ]
  },
  {
   "cell_type": "markdown",
   "metadata": {
    "pycharm": {
     "name": "#%% md\n"
    }
   },
   "source": [
    "### Customizing plots\n",
    "\n",
    "Adding axis labels."
   ]
  },
  {
   "cell_type": "code",
   "execution_count": 54,
   "metadata": {
    "pycharm": {
     "name": "#%%\n"
    }
   },
   "outputs": [
    {
     "data": {
      "text/plain": [
       "Text(0, 0.5, 'amplitude')"
      ]
     },
     "execution_count": 54,
     "metadata": {},
     "output_type": "execute_result"
    },
    {
     "data": {
      "image/png": "[encoded data removed]",
      "text/plain": [
       "<Figure size 432x288 with 1 Axes>"
      ]
     },
     "metadata": {
      "needs_background": "light"
     },
     "output_type": "display_data"
    }
   ],
   "source": [
    "plt.plot(x,y1) # plot the sine function\n",
    "plt.plot(x,y2) # plot the cosine function\n",
    "\n",
    "plt.xlabel('time',size=14)      # add x-axis label\n",
    "plt.ylabel('amplitude',size=14) # add y-axis label"
   ]
  },
  {
   "cell_type": "markdown",
   "metadata": {
    "pycharm": {
     "name": "#%% md\n"
    }
   },
   "source": [
    "Changing colors and line widths."
   ]
  },
  {
   "cell_type": "code",
   "execution_count": 55,
   "metadata": {
    "pycharm": {
     "name": "#%%\n"
    }
   },
   "outputs": [
    {
     "data": {
      "text/plain": [
       "[<matplotlib.lines.Line2D at 0x7f911f01f748>]"
      ]
     },
     "execution_count": 55,
     "metadata": {},
     "output_type": "execute_result"
    },
    {
     "data": {
      "image/png": "[encoded data removed]",
      "text/plain": [
       "<Figure size 432x288 with 1 Axes>"
      ]
     },
     "metadata": {
      "needs_background": "light"
     },
     "output_type": "display_data"
    }
   ],
   "source": [
    "plt.plot(x,y1,color='purple',linewidth=3) # plot the sine function\n",
    "plt.plot(x,y2,color='green',linewidth=6) # plot the cosine function"
   ]
  },
  {
   "cell_type": "markdown",
   "metadata": {
    "pycharm": {
     "name": "#%% md\n"
    }
   },
   "source": [
    "Changing line/point style. "
   ]
  },
  {
   "cell_type": "code",
   "execution_count": 56,
   "metadata": {
    "pycharm": {
     "name": "#%%\n"
    }
   },
   "outputs": [
    {
     "data": {
      "text/plain": [
       "[<matplotlib.lines.Line2D at 0x7f911effbba8>]"
      ]
     },
     "execution_count": 56,
     "metadata": {},
     "output_type": "execute_result"
    },
    {
     "data": {
      "image/png": "[encoded data removed]",
      "text/plain": [
       "<Figure size 432x288 with 1 Axes>"
      ]
     },
     "metadata": {
      "needs_background": "light"
     },
     "output_type": "display_data"
    }
   ],
   "source": [
    "plt.plot(x,y1,'o') # set the symbol for each data point\n",
    "plt.plot(x,y2,linestyle='--') # sets the line style"
   ]
  },
  {
   "cell_type": "markdown",
   "metadata": {
    "pycharm": {
     "name": "#%% md\n"
    }
   },
   "source": [
    "Adding a legend. "
   ]
  },
  {
   "cell_type": "code",
   "execution_count": 57,
   "metadata": {
    "pycharm": {
     "name": "#%%\n"
    }
   },
   "outputs": [
    {
     "data": {
      "text/plain": [
       "<matplotlib.legend.Legend at 0x7f911ef7ce80>"
      ]
     },
     "execution_count": 57,
     "metadata": {},
     "output_type": "execute_result"
    },
    {
     "data": {
      "image/png": "[encoded data removed]",
      "text/plain": [
       "<Figure size 432x288 with 1 Axes>"
      ]
     },
     "metadata": {
      "needs_background": "light"
     },
     "output_type": "display_data"
    }
   ],
   "source": [
    "plt.plot(x,y1,label='sine') # plot the sine function, adds a label\n",
    "plt.plot(x,y2,label='cosine') # plot the cosine function, adds a label\n",
    "\n",
    "plt.legend(loc='upper left',fontsize=12) # adds legend at defined corner and sets font size"
   ]
  },
  {
   "cell_type": "markdown",
   "metadata": {
    "pycharm": {
     "name": "#%% md\n"
    }
   },
   "source": [
    "Figure with two panels. \n",
    "\n",
    "In order to create a multipanel figure, a `figure` object has to be created to which subplots can be added.  \n",
    "\n",
    "The first two numbers in the `add_subplot()` call specify the grid. And the last number the number of the subplot. For example, \"111\" means \"1x1 grid, first subplot\"; and \"234\" means \"2x3 grid, 4th subplot\"."
   ]
  },
  {
   "cell_type": "code",
   "execution_count": 58,
   "metadata": {
    "pycharm": {
     "name": "#%%\n"
    }
   },
   "outputs": [
    {
     "data": {
      "image/png": "[encoded data removed]",
      "text/plain": [
       "<Figure size 1080x360 with 2 Axes>"
      ]
     },
     "metadata": {
      "needs_background": "light"
     },
     "output_type": "display_data"
    }
   ],
   "source": [
    "fig = plt.figure(figsize=(15,5))     # creates figure of the specified size in inches\n",
    "\n",
    "ax0 = fig.add_subplot(121)           # adds subplot : 1x2 grid, 1st subplot\n",
    "ax0.set_title('subfigure 1',size=16) # adds subplot title\n",
    "ax0.plot(x,y1)\n",
    "\n",
    "ax1 = fig.add_subplot(122)           # adds subplot : 1x2 grid, 2nd subplot\n",
    "ax1.set_title('subfigure 2',size=16) # adds subplot title\n",
    "ax1.plot(x,y2)\n",
    "\n",
    "plt.show()"
   ]
  },
  {
   "cell_type": "markdown",
   "metadata": {
    "pycharm": {
     "name": "#%% md\n"
    }
   },
   "source": [
    "## The end"
   ]
  }
 ],
 "metadata": {
  "kernelspec": {
   "display_name": "Python 3 (ipykernel)",
   "language": "python",
   "name": "python3"
  },
  "language_info": {
   "codemirror_mode": {
    "name": "ipython",
    "version": 3
   },
   "file_extension": ".py",
   "mimetype": "text/x-python",
   "name": "python",
   "nbconvert_exporter": "python",
   "pygments_lexer": "ipython3",
   "version": "3.8.12"
  }
 },
 "nbformat": 4,
 "nbformat_minor": 1
}
