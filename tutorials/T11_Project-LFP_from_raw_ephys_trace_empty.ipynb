{
 "cells": [
  {
   "cell_type": "markdown",
   "metadata": {},
   "source": [
    "# T11 Example project with tips and tricks"
   ]
  },
  {
   "cell_type": "markdown",
   "metadata": {},
   "source": [
    "<div class=\"alert alert-info\">Hint and tips are provided with blue background.</span>"
   ]
  },
  {
   "cell_type": "markdown",
   "metadata": {},
   "source": [
    "## Project : Extract local field potential (LFP) from extracellular recording in the hippocampus"
   ]
  },
  {
   "cell_type": "markdown",
   "metadata": {},
   "source": [
    "You are provided with a raw extracellular recording from the hippocampus of a awake behaving rat. The trace has been recorded with a silicon probe (32 channel) and you will be analyzing the signal from a single channel (the probe delivers in total 32 of such recordings). The signal contains the local field potential (LFP) as well as spiking signals. Since both occur at different frequencies, it is possible to separate them through appropriate signal filtering using spectral analysis. Your task is to extract frequency content of the LFP from the raw trace. The frequency content of the LFP trace can then be further analyzed and be linked to specific behaviors. \n",
    "\n",
    "\n",
    "### Objective of the project\n",
    "\n",
    "Study the frequencies contained in the LFP signal. For that purpose, calculate the spectrogram showing the frequency content as a function of time. The frequency range of interest ranges from 0 to 100 Hz. Characterize which frequencies are contained in the recording, and whether these signals change over time. Which frequencies show prominent dynamics during the recording period, i.e., which frequencies show dynamics changes in spectral power over time? \n",
    "\n"
   ]
  },
  {
   "cell_type": "markdown",
   "metadata": {},
   "source": [
    "<div class=\"alert alert-info\"> \n",
    "Using the information provided, try to learn as much as possible about the scientific and technical background of the project. \n",
    "    \n",
    "* have a in depth look at the publication provided with the project (if any), here : [Gabrielle Girardeau et al. (2017) <i>Nature Neurosciene</i>](https://www.nature.com/articles/nn.4637)\n",
    "* search for project keywords, here : \"hippocampus\", \"silcon probe\", \"local field potential\", \"spectral analysis\", \"spectrogram\", \"LFR frequency ranges\"\n",
    "* look back at the lecture and turorial which dealt with the technique to be used in the project, here : \"Course 6 : Spectral analysis of analog signals\"\n",
    " </span>"
   ]
  },
  {
   "cell_type": "markdown",
   "metadata": {},
   "source": [
    "### Details about the recording"
   ]
  },
  {
   "cell_type": "markdown",
   "metadata": {},
   "source": [
    "The data has been recorded in the lab of [Gabrielle Girardeau](https://girardeaulab.org/). The entire trace is 6.3 hours long with running on track at the beginning, middle and end and homecage inbetween with sleep and quiet wakefulness. The electrode has been placed in the hippocampus in the CA1 pyramidal cell layer. The sampling rate of the recording is 20 kHz (or 20 000 Hz). \n",
    "\n",
    "To avoid issues with handling the large data file, a part of the entire recording was extracted for this project. "
   ]
  },
  {
   "cell_type": "markdown",
   "metadata": {},
   "source": [
    "#### The data \n",
    "\n",
    "Find below the code on how to load the data. \n",
    "\n",
    "<div class=\"alert alert-info\"> Try to first understand in detail the structure of the data. What is contained in the data structure and what are the properties of the data. </span>"
   ]
  },
  {
   "cell_type": "markdown",
   "metadata": {},
   "source": [
    "The data can be downloaded from [here](https://biomedicale.u-paris.fr/~mgraupe/neuralDataSciencePython/data-for-project_3.npy). "
   ]
  },
  {
   "cell_type": "code",
   "execution_count": 1,
   "metadata": {},
   "outputs": [],
   "source": [
    "import numpy as np    \n",
    "import matplotlib.pyplot as plt\n",
    "# if you use qt (instead of inline what we used in the course) you can zoom in on the data which is useful for large traces\n",
    "%matplotlib qt\n",
    "#%matplotlib inline\n",
    "\n",
    "data = np.load('data-for-project_3.npy')\n"
   ]
  },
  {
   "cell_type": "markdown",
   "metadata": {},
   "source": [
    "#### Plotting \n",
    "\n",
    "Plot the raw data!\n",
    "\n",
    "<div class=\"alert alert-info\">As always, plotting the data provide immediate and useful insights. Generally, plot data and results helps to develop a better understanding. I would recommend plotting in an external window, since this allows to zoom into the data. This is in particular useful for large data-sets. Don't forget to include figures in the jupyter-notebook for the project presentation and for illustrating the results obtained. \n",
    "    \n",
    " * zoom into the data and explore features at many different time points, here : check out the interval [70,90] sec\n",
    " * try to get a first rough estimate about the project question through visual inspection, here : what is the frequency present in the signal \n",
    " * if data-set is too large, plot and inspect smaller sections of the data \n",
    " * figures can be implemented with the code : ![Data Figure](Figure_data.png)\n",
    "</span>"
   ]
  },
  {
   "cell_type": "code",
   "execution_count": 2,
   "metadata": {},
   "outputs": [],
   "source": [
    "# plot the data \n",
    "\n"
   ]
  },
  {
   "cell_type": "markdown",
   "metadata": {},
   "source": [
    "#### Analysis\n",
    "\n",
    "<div class=\"alert alert-info\">Using the course material, try to understand the analysis to perform and how to implement it. \n",
    "    \n",
    "* Pick the right lecture and read up about the analyis method. Maybe read more extensive explanations on the internet about the analysis, here : [Spectral analysis on Wikipedia, for exmaple](https://en.wikipedia.org/wiki/Spectral_density_estimation)\n",
    "* Use example code snippets from the tutorial to start programming, here : \"T06 : Calculating the spectrogram of a signal\"\n",
    "* Go through the code and try to understand the code. \n",
    "* You could also start from a code snippet you find on the internet. There are many possible ways to realize similar analysis. The difficulty is to find what suits best your problem. \n",
    "</span>"
   ]
  },
  {
   "cell_type": "markdown",
   "metadata": {},
   "source": [
    "We take the code snipplet from tutorial 6 where we calculate the spetral content using FFT in numpy."
   ]
  },
  {
   "cell_type": "code",
   "execution_count": null,
   "metadata": {},
   "outputs": [],
   "source": []
  },
  {
   "cell_type": "markdown",
   "metadata": {},
   "source": [
    "**Adaptation**"
   ]
  },
  {
   "cell_type": "markdown",
   "metadata": {},
   "source": [
    "<div class=\"alert alert-info\">Adapt the code for the project. In other words, start from the tutorial code and adapt it  \n",
    "    \n",
    "* Change the values and fill in the project specifics. \n",
    "* It is useful and good practise to separate **computations**: the actual implementation of the analysis and **visualization** : the figure generation. \n",
    "</span>\n"
   ]
  },
  {
   "cell_type": "markdown",
   "metadata": {},
   "source": [
    "We need to split the signal is segments and calculate the frequency content sequentially. \n",
    "\n",
    "We start by chopping up the signal into slices of 1024 samples, each slice overlapping the previous by 100 samples. The resulting slices array contains one slice per row. We found a `scikit-learn` function online to perform that : [Frequency and the Fast Fourier Transform](https://www.oreilly.com/library/view/elegant-scipy/9781491922927/ch04.html)"
   ]
  },
  {
   "cell_type": "code",
   "execution_count": 3,
   "metadata": {},
   "outputs": [],
   "source": [
    "from skimage import util\n",
    "\n",
    "windowLength = 1024\n",
    "\n",
    "slices = util.view_as_windows(data[1], window_shape=(windowLength,), step=100)\n",
    "\n"
   ]
  },
  {
   "cell_type": "markdown",
   "metadata": {},
   "source": [
    "**Computation**\n",
    "\n",
    "In most cases, it is more efficient and instructive to perform the analysis first on a subset of the data.\n",
    "\n",
    "Optimize the code and visualization until the desired output is generated. Once the output is plausible and correct, move on to apply the analysis to the entire data.\n",
    "\n",
    "Below, we perform the FFT on the first slice of the data. \n"
   ]
  },
  {
   "cell_type": "code",
   "execution_count": null,
   "metadata": {},
   "outputs": [],
   "source": []
  },
  {
   "cell_type": "markdown",
   "metadata": {},
   "source": [
    "**Figure generation**\n",
    "\n",
    "Check the outcome visually at all stages. "
   ]
  },
  {
   "cell_type": "code",
   "execution_count": 4,
   "metadata": {},
   "outputs": [],
   "source": [
    "# plot the outcome\n"
   ]
  },
  {
   "cell_type": "markdown",
   "metadata": {},
   "source": [
    "**Refinement**\n",
    "\n",
    "Here in particular, we need to change the resolution of the frequency axis. This can be done by changing the window length. "
   ]
  },
  {
   "cell_type": "code",
   "execution_count": 6,
   "metadata": {},
   "outputs": [],
   "source": [
    "# change the window length and see how it affects the frequency resolution\n"
   ]
  },
  {
   "cell_type": "markdown",
   "metadata": {},
   "source": [
    "**Apply to entire data-set**\n",
    "\n",
    "Extend the analysis to the entire data-set. Use the above developped code and apply it to the entire data-set.\n",
    "\n",
    "<div class=\"alert alert-info\">Sometimes, the computation can take minutes or even hours, when the data-set is large or the computations heavy. Be patient. You can try to let the analysis run over night.</div>\n",
    "\n",
    "Copy all relevant code in one window. That way you avoid surprises of a stray variable which has been initialized with a strange value somewhere else.\n",
    "\n",
    "For the above problem, let's write a loop which calculates spetral power for all slices. "
   ]
  },
  {
   "cell_type": "code",
   "execution_count": 7,
   "metadata": {},
   "outputs": [],
   "source": [
    "# loop over entire data-set\n"
   ]
  },
  {
   "cell_type": "markdown",
   "metadata": {},
   "source": [
    "**Figure generation**\n",
    "Show your results in figure with captions and labels.\n",
    "\n",
    "<div class=\"alert alert-info\">Producing good representations of results in form of figures takes time and effort. Try to find the visualization which best conveys your result. Certain measures have standard representations (e.g. frequency content is shown in spectrograms, spikes in raster plots, etc.).</div>"
   ]
  },
  {
   "cell_type": "code",
   "execution_count": 8,
   "metadata": {},
   "outputs": [],
   "source": [
    "# convert the list of power values to numpy array "
   ]
  },
  {
   "cell_type": "markdown",
   "metadata": {},
   "source": [
    "The specific unit used for the ratio is the decibel, `20*log10()` (amplitude ratio)."
   ]
  },
  {
   "cell_type": "code",
   "execution_count": 9,
   "metadata": {},
   "outputs": [],
   "source": [
    "# plot the power over time\n"
   ]
  },
  {
   "cell_type": "markdown",
   "metadata": {},
   "source": [
    "**Further analysis and interpretation of results**\n",
    "\n",
    "The specific objective for this project was to find frequency ranges which exhibit dynamics over time. Here, it looks like as if theta power is present only for certain time intervals. Let's extract the mean power in the theta range and display it over time.\n",
    "\n",
    "<div class=\"alert alert-info\">Going an additional step after obtaining the main result provides often great insight, doesn't take much effort and increases the quality/impact of your work.</div>"
   ]
  },
  {
   "cell_type": "markdown",
   "metadata": {},
   "source": [
    "Plot a the mean power over time. "
   ]
  },
  {
   "cell_type": "code",
   "execution_count": 12,
   "metadata": {},
   "outputs": [],
   "source": [
    "# average over the time axis\n"
   ]
  },
  {
   "cell_type": "markdown",
   "metadata": {},
   "source": [
    "Plot the power in the theta band as a function of time. "
   ]
  },
  {
   "cell_type": "code",
   "execution_count": 13,
   "metadata": {},
   "outputs": [],
   "source": [
    "# get power in theta band\n"
   ]
  },
  {
   "cell_type": "markdown",
   "metadata": {},
   "source": [
    "**Discussion**\n",
    "\n",
    "<div class=\"alert alert-info\">Finish with a disucssion which contains a summary of your results and an interpretation. What does it mean? What would be further steps?</div>"
   ]
  }
 ],
 "metadata": {
  "kernelspec": {
   "display_name": "Python 3 (ipykernel)",
   "language": "python",
   "name": "python3"
  },
  "language_info": {
   "codemirror_mode": {
    "name": "ipython",
    "version": 3
   },
   "file_extension": ".py",
   "mimetype": "text/x-python",
   "name": "python",
   "nbconvert_exporter": "python",
   "pygments_lexer": "ipython3",
   "version": "3.8.12"
  }
 },
 "nbformat": 4,
 "nbformat_minor": 4
}
