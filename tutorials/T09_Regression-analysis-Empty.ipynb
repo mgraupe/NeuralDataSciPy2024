{
 "cells": [
  {
   "cell_type": "markdown",
   "metadata": {},
   "source": [
    "# T9 Regression analysis"
   ]
  },
  {
   "cell_type": "markdown",
   "metadata": {},
   "source": [
    "## Linear and polynomial regression "
   ]
  },
  {
   "cell_type": "markdown",
   "metadata": {},
   "source": [
    "We are given two generic data-sets consisting of observations at diffferent values of x. The task is to determine whether there exists a relationship between the independent variable x and the variable y? In other words, perform a regression analysis on the data-sets and determine whether changes in the independent variable predict changes in the dependent variable. \n",
    "\n",
    "We will use linear regression which assumes a linear (geometrically speaking: a line) relationship between the inpependent and dependent variable. Linear regression estimates the offset and the slope as predictors for the relationship. \n",
    "\n",
    "Polynomial regression extends the linear model by adding extra predictors, obtained by raising each of the original predictors to a power. For example, a cubic regression uses three variables $X^1$, $X^2$, $X^3$, as predictors. This approach provides a simple way to provide a non-linear fit to data.\n",
    "\n",
    "\n",
    "The data is provided in the two files `data1-regression.npy` and `data2-regression.npy`. Remember that numpy binary files can loaded with `np.load([name of file])`. \n",
    "\n",
    "\n"
   ]
  },
  {
   "cell_type": "markdown",
   "metadata": {},
   "source": [
    "#### Performing regression analysis 'by hand'\n",
    "\n",
    "Let's start by performing the regression analysis 'by hand', which means that we will successively perform the steps. \n",
    "\n",
    "1. Let's start by plotting both data-sets. Based on visual inspection, do you expect none, one or both data-sets to exhibit a relationship? \n",
    "1. Let's fit at line to the data using the numpy `polyfit()` function. This function takes, x, y and the degree of the polynomial function as input arguments and returns the polynomial coefficients. \n",
    "* Calculate the predicted values based on the linear fit. The numpy `polyval()` function can be used for that, it takes the polynomial coefficients and the x values as input arguments. \n",
    "* Plot both, the cloud of data and the fitted line. \n",
    "* Calculate the $R^2$ value. Note that this requires to calculate the total sum of squares $SS_{tot}$ and the residual sum of squares $SS_{res}$. Check the formula for $R^2$ from the lecture. \n",
    "* Plot the residual of both data-sets. What can you say about the statistics of the residuals?\n",
    "* Perform the regression now using polynomials of higher order (2,4,8,16) to predict the relationship betweeen x and y. How does $R^2$ change for both data-sets when using high-order polynomials? Plot $R^2$ as a function of the polynomial order. "
   ]
  },
  {
   "cell_type": "code",
   "execution_count": 12,
   "metadata": {},
   "outputs": [],
   "source": [
    "import numpy as np\n",
    "import matplotlib.pyplot as plt\n",
    "# your code"
   ]
  },
  {
   "cell_type": "markdown",
   "metadata": {},
   "source": [
    "#### Performing regression using precompiled scipy function\n",
    "\n",
    "Let's now perform the regression analysis using the `scipy.stats` function : `linregress()`. This function takes the x and the y values as input arguments. Compare the results  of `linregress()` with the polynomial coefficients and the $R^2$ values caluclated above. "
   ]
  },
  {
   "cell_type": "code",
   "execution_count": 13,
   "metadata": {},
   "outputs": [],
   "source": [
    "from scipy.stats import linregress\n"
   ]
  },
  {
   "cell_type": "markdown",
   "metadata": {},
   "source": [
    "## Logistic regression "
   ]
  },
  {
   "cell_type": "markdown",
   "metadata": {},
   "source": [
    "We have a data-set (stored in the variable `data3`) which contains data on how students passed a test. The x values are hours spent preparing for an exam and the y-values inform whether or not the student passed the exam. In turn, the y-values are \n",
    "binary taking either 0 - the student didn't pass the test - or 1 - the student passed the test - as values. Let's perform a logistic regression on this data-set. The result will help us decide how much time we should spend preparing the exam in order to have a good chance succeeding. "
   ]
  },
  {
   "cell_type": "code",
   "execution_count": 14,
   "metadata": {},
   "outputs": [],
   "source": [
    "data3 = np.array(([12,12.5,13.2,14,14.7,15.5,15.9,16.5,16.8,17,17.1,17.7,17.9,18.1,18.2,18.8,19.8,20.3,20.8,21,22],\n",
    "                 [0,0,0,0,0,0,0,1,0,1,0,0,1,1,1,1,1,1,1,1,1]))"
   ]
  },
  {
   "cell_type": "markdown",
   "metadata": {},
   "source": [
    "#### Perform logistic regression using scikit-learn function \n",
    "\n",
    "1. Plot the data. Based on visual inspection, how much time should you invest to have a good chance of passing the exam?"
   ]
  },
  {
   "cell_type": "code",
   "execution_count": 15,
   "metadata": {},
   "outputs": [],
   "source": [
    "# your code"
   ]
  },
  {
   "cell_type": "markdown",
   "metadata": {},
   "source": [
    "2. Perfrom the logistic regression using the code below. "
   ]
  },
  {
   "cell_type": "code",
   "execution_count": 16,
   "metadata": {},
   "outputs": [
    {
     "data": {
      "image/png": "[encoded data removed]",
      "text/plain": [
       "<Figure size 432x288 with 1 Axes>"
      ]
     },
     "metadata": {
      "needs_background": "light"
     },
     "output_type": "display_data"
    }
   ],
   "source": [
    "from sklearn.linear_model import LogisticRegression\n",
    "\n",
    "displacement = np.mean(data3[0])\n",
    "\n",
    "logRegression = LogisticRegression(solver='lbfgs')\n",
    "logRegression.fit(data3[0].reshape(len(data3[0]),1)-displacement,data3[1])\n",
    "\n",
    "x_pred = np.linspace(data3[0].min()-displacement,data3[0].max()-displacement,1000)\n",
    "y_pred = logRegression.predict_proba(x_pred.reshape(len(x_pred),1))\n",
    "\n",
    "plt.plot(data3[0],data3[1],'o')\n",
    "plt.plot(x_pred+displacement,y_pred[:,1])\n",
    "plt.show()\n"
   ]
  },
  {
   "cell_type": "markdown",
   "metadata": {},
   "source": [
    "3. Based on the logistic regression, how much time should you invest preparing the exam in order to have a 50 % change or more to pass the test? "
   ]
  },
  {
   "cell_type": "code",
   "execution_count": 17,
   "metadata": {},
   "outputs": [],
   "source": [
    "# your code"
   ]
  },
  {
   "cell_type": "markdown",
   "metadata": {},
   "source": [
    "## The end"
   ]
  }
 ],
 "metadata": {
  "kernelspec": {
   "display_name": "Python 3 (ipykernel)",
   "language": "python",
   "name": "python3"
  },
  "language_info": {
   "codemirror_mode": {
    "name": "ipython",
    "version": 3
   },
   "file_extension": ".py",
   "mimetype": "text/x-python",
   "name": "python",
   "nbconvert_exporter": "python",
   "pygments_lexer": "ipython3",
   "version": "3.8.12"
  }
 },
 "nbformat": 4,
 "nbformat_minor": 1
}
