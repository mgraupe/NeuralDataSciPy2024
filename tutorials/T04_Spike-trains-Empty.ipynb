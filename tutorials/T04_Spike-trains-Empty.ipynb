{
 "cells": [
  {
   "cell_type": "markdown",
   "metadata": {},
   "source": [
    "# T4 Wrangling spike-trains"
   ]
  },
  {
   "cell_type": "markdown",
   "metadata": {},
   "source": [
    "## Toy example of a light sensitive neuron"
   ]
  },
  {
   "cell_type": "markdown",
   "metadata": {},
   "source": [
    "Let us consider a neuron, which is alive, that is capable of sending spikes. This particular neuron will generally not send any spikes in the dark, and this neuron will send spikes if you shine green light (e.g. at wavelength 550 nm) on it. Let's also assume that we have a recording electrode near the soma (the point where this neuron sends spikes). Through this electrode, we can record when this neuron is firing over time. \n",
    "The result of this recording is a list of `0`s for when no spike was emitted and `1`s for when a spike was emitted. This array is saved in the variable `spikeTrain`. \n",
    "\n",
    "**Note** : The array `recordingTime` contains the binned time of the recording. Each bin has a duration of 10 ms intervals and the number in each bin specifies whether the neuron fired or not during the specific time period. "
   ]
  },
  {
   "cell_type": "code",
   "execution_count": 2,
   "metadata": {},
   "outputs": [],
   "source": [
    "import numpy as np\n",
    "\n",
    "recordingTime = np.array([10,20,30,40,50,60,70,80,90,100,110,120,130,140,150,160,170,180,190,200])\n",
    "spikeTrain = np.array([0,0,0,0,0,0,0,0,1,0,1,0,1,0,0,0,1,0,0,0])"
   ]
  },
  {
   "cell_type": "markdown",
   "metadata": {},
   "source": [
    "This neuron is spiking when illuminated with green light. So let's indicate the time points during which the green light in on in bold : [10,20,30,40,**50,60,70,80,90,100,110,120,130,**140,150,160,170,180,190,200]. This means that the light started at 50 ms and lasted until 130 ms. It stayed on for 80 ms. "
   ]
  },
  {
   "cell_type": "markdown",
   "metadata": {},
   "source": [
    "#### Basic questions about the spike train\n",
    "\n",
    "First, we will extract some basic information about the spike train. \n",
    "\n",
    "* How many spikes did the neuron fire in total during the recording period? \n",
    "* How long is the recording period? \n",
    "* What is the average firing rate of the neuron during the recording period? \n",
    "* At which time points do the spikes occur?"
   ]
  },
  {
   "cell_type": "code",
   "execution_count": 3,
   "metadata": {},
   "outputs": [],
   "source": [
    "# your code goes here"
   ]
  },
  {
   "cell_type": "markdown",
   "metadata": {},
   "source": [
    "#### Response latency\n",
    "\n",
    "The time it takes the neuron to be reponsive, i.e., for a neuron to spike in response to a stimulus - in our case green light - is known as the **response latency**. \n",
    "\n",
    "* Calculate the latency to first spike after stimulus onset for the given spike-train. "
   ]
  },
  {
   "cell_type": "code",
   "execution_count": 4,
   "metadata": {},
   "outputs": [],
   "source": [
    "# your code goes here"
   ]
  },
  {
   "cell_type": "markdown",
   "metadata": {},
   "source": [
    "<div class=\"alert alert-info\">\n",
    "<em>Advanced assignment :</em>\n",
    "    \n",
    "Calculate the inter-spike-intervals (ISIs) for the recording. Remember that the ISIs are the intervals between all spikes. Once you have the intervals, calculate the coefficient (CV) of variation (see lecture L02 for details). The CV quantifies the irregularity of the spike train. \n",
    "\n",
    "One can also calculate the firing rate of the neuron based on the ISIs. Try to think of a way to get from the ISIs to the firing rate. \n",
    "</div>"
   ]
  },
  {
   "cell_type": "code",
   "execution_count": 5,
   "metadata": {},
   "outputs": [],
   "source": [
    "# your code goes here"
   ]
  },
  {
   "cell_type": "markdown",
   "metadata": {},
   "source": [
    "#### Raster plot\n",
    "\n",
    "Let't make a plot and illustrate the spike-train. The plot the spiking activity we need to know the time of every spike in the array. People sometimes called these the *spike timestamps*, or *spiketimes*. To plot the spikes, we will use the common visualization method of a **spike raster plot**. In such a plot, each spike is represented as a vertical line, at the time when it occurred, with time on the x-axis.\n",
    "\n",
    "* Plot the raster plot of the spiketrain using the `matplotlib.pyplot` `eventplot()` function. This function takes the x-locations as input argument. \n",
    "* Mark the stimulus period with as green shaded region in the plot by making use of the `matplotlib.pyplot` `axvspan()` function (input arguments are the x start and stop values). "
   ]
  },
  {
   "cell_type": "code",
   "execution_count": 6,
   "metadata": {},
   "outputs": [],
   "source": [
    "# your code goes here"
   ]
  },
  {
   "cell_type": "markdown",
   "metadata": {},
   "source": [
    "#### Multiple recordings of the same neuron\n",
    "\n",
    "What if there is some mechanism inside the neuron that causes it to spike highly unreliably? What if we are recording the signals of this neuron in a noisy environment? To address this, we would need to stimulate and record the neuron multiple times (ideally many times). \n",
    "\n",
    "Below are the spike-trains of the neuron from ten identical recordings, i.e., the green light simulus was on always during the [50,130] ms time window. "
   ]
  },
  {
   "cell_type": "code",
   "execution_count": 7,
   "metadata": {},
   "outputs": [],
   "source": [
    "tenSpikeTrains = np.array([[0,0,0,0,0,0,0,0,0,1,0,1,0,1,0,0,0,1,0,0,0],\\\n",
    "                  [0,0,0,0,0,0,0,0,1,1,0,0,0,1,0,0,0,1,0,0,0],\\\n",
    "                  [0,1,0,0,0,0,0,0,0,0,1,0,0,1,0,0,0,0,0,1,0],\\\n",
    "                  [0,0,0,0,0,0,0,0,1,1,0,1,0,0,0,0,0,0,1,0,0],\\\n",
    "                  [0,0,0,0,0,0,0,0,0,1,0,0,1,0,0,0,0,0,0,0,0],\\\n",
    "                  [0,0,0,0,0,0,0,0,0,0,1,1,0,0,0,1,0,0,0,1,0],\\\n",
    "                  [0,0,0,0,0,0,0,0,1,1,1,0,0,1,1,0,0,1,1,0,0],\\\n",
    "                  [1,0,0,0,0,0,0,0,0,0,1,1,0,0,0,0,1,0,0,0,0],\\\n",
    "                  [0,0,0,0,0,0,0,0,1,1,0,0,1,1,0,0,1,1,0,0,0],\\\n",
    "                  [0,0,0,0,0,0,1,0,0,1,0,1,0,0,0,0,0,1,1,0,0]])"
   ]
  },
  {
   "cell_type": "markdown",
   "metadata": {},
   "source": [
    "<div class=\"alert alert-info\">\n",
    "<em>Advanced assignment :</em>\n",
    "    \n",
    "Calculate and concatenate all inter-spike-intervals (ISIs) for all recordings. Again, calculate the CV and firing rate based on all ISIs. \n",
    "</div>"
   ]
  },
  {
   "cell_type": "code",
   "execution_count": 8,
   "metadata": {},
   "outputs": [],
   "source": [
    "# your code goes here"
   ]
  },
  {
   "cell_type": "markdown",
   "metadata": {},
   "source": [
    "#### Visualize the recordings in a raster plot\n",
    "\n",
    "In order to make a raster plot of the data from **all** the trials, let's use a similar method we used for the data from a single trial, except that we cycle through each array in the array. \n",
    "\n",
    "* Plot a raster-plot of all the data using a `for` loop and the `eventplot()` visualization function. Use the input argument `lineoffsets=[value]` to vertically displace individual spike-trains. \n",
    "* Indicate the stimulus period in the plot. "
   ]
  },
  {
   "cell_type": "code",
   "execution_count": 9,
   "metadata": {},
   "outputs": [],
   "source": [
    "# your code goes here"
   ]
  },
  {
   "cell_type": "markdown",
   "metadata": {},
   "source": [
    "## Coefficient of variation\n",
    "\n",
    "Calculate the inter-spike-intervals (ISIs) for the first recording (spikeTrain). Remember that the ISIs are the intervals between all spikes. Once you have the intervals, calculate the coefficient (CV) of variation (see lecture L04 for details). The CV quantifies the irregularity of the spike train."
   ]
  },
  {
   "cell_type": "code",
   "execution_count": 10,
   "metadata": {},
   "outputs": [],
   "source": [
    "# your code goes here"
   ]
  },
  {
   "cell_type": "markdown",
   "metadata": {},
   "source": [
    "Now let's use the 10 recordings to compute a better estimate, i.e., an quantification based on more data-points, for the CV. "
   ]
  },
  {
   "cell_type": "code",
   "execution_count": 11,
   "metadata": {},
   "outputs": [],
   "source": [
    "# your code goes here"
   ]
  },
  {
   "cell_type": "markdown",
   "metadata": {},
   "source": [
    "## The end"
   ]
  }
 ],
 "metadata": {
  "kernelspec": {
   "display_name": "Python 3 (ipykernel)",
   "language": "python",
   "name": "python3"
  },
  "language_info": {
   "codemirror_mode": {
    "name": "ipython",
    "version": 3
   },
   "file_extension": ".py",
   "mimetype": "text/x-python",
   "name": "python",
   "nbconvert_exporter": "python",
   "pygments_lexer": "ipython3",
   "version": "3.8.12"
  }
 },
 "nbformat": 4,
 "nbformat_minor": 1
}
