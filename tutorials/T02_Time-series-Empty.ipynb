{
 "cells": [
  {
   "cell_type": "markdown",
   "metadata": {},
   "source": [
    "# T2 Time series"
   ]
  },
  {
   "cell_type": "markdown",
   "metadata": {},
   "source": [
    "## Time series with elapsed time relative to start time "
   ]
  },
  {
   "cell_type": "markdown",
   "metadata": {},
   "source": [
    "Experimental data has been recorded and saved as numpy array in a file. We will load the file and extract information about the data by displaying it and calculating various statistics. "
   ]
  },
  {
   "cell_type": "markdown",
   "metadata": {},
   "source": [
    "In order to complete the below excercies, you need to download the files `time-series1N.npy` and `time-series2.xlsx` from the github repository. Both are located in the `tutorials` folder. Note that both files need to be saved in the same folder as this notebook. "
   ]
  },
  {
   "cell_type": "markdown",
   "metadata": {},
   "source": [
    "<div class=\"alert alert-info\">\n",
    "<em>Advanced assignment :</em>\n",
    "    \n",
    "Advanced assignements are for fast-progressing students only. You can work on them if the pace of the class is too slow for you. Note that they will not be discussed in class. You can see the solution in the completed tutorial file uploaded after the class.\n",
    "</div>"
   ]
  },
  {
   "cell_type": "markdown",
   "metadata": {},
   "source": [
    "#### Load data \n",
    "First, we will load the data using the numpy `load` function which can be used to open files with the `.npy` ending. "
   ]
  },
  {
   "cell_type": "code",
   "execution_count": 1,
   "metadata": {},
   "outputs": [],
   "source": [
    "# first we load the numpy module \n",
    "import numpy as np\n",
    "# and we also load the matplotlib module for later plotting\n",
    "import matplotlib.pyplot as plt\n",
    "%matplotlib inline\n",
    "\n",
    "# data will be loaded from the file named 'time-series1N.npy' and saved in the data variable\n",
    "data = np.load('time-series1N.npy') "
   ]
  },
  {
   "cell_type": "markdown",
   "metadata": {},
   "source": [
    "#### Get a first idea about the data\n",
    "\n",
    "We don't know at all what the data is about. Let's try to get a first idea about what is contained in the varialbe `data`. \n",
    "\n",
    "- What is the type of the imported data? \n",
    "- What are the dimensions of the data (you can use the `np.shape()` function)? \n",
    "- Which data is contained in each dimension? What do you think? \n",
    "- Try to plot the data in a meaningful way."
   ]
  },
  {
   "cell_type": "code",
   "execution_count": 3,
   "metadata": {},
   "outputs": [],
   "source": [
    "# your code goes here \n"
   ]
  },
  {
   "cell_type": "markdown",
   "metadata": {},
   "source": [
    "#### Extract simple statistics from the data\n",
    "\n",
    "We move on to get more detailed information about the data. Use `numpy` functions for the below stats. \n",
    "\n",
    "- Cacluate the ***maximum*** (`np.max()`), ***minimum*** (`np.min()`), ***mean*** (`np.mean()`) and ***standard deviation*** (`np.std()`) of the data. "
   ]
  },
  {
   "cell_type": "code",
   "execution_count": 3,
   "metadata": {},
   "outputs": [],
   "source": [
    "# your code goes here \n"
   ]
  },
  {
   "cell_type": "markdown",
   "metadata": {},
   "source": [
    "#### Get information about the time axis\n",
    "\n",
    "The first row of the data contains the relative time elapsed during the experiment. Let's extract more information about the time axis.\n",
    "\n",
    "- What is the time interval between data points? Try the `np.diff()` function and see what it returns.  \n",
    "- Are all intervals equal? What is the sampling frequency of the data? "
   ]
  },
  {
   "cell_type": "code",
   "execution_count": 10,
   "metadata": {},
   "outputs": [],
   "source": [
    "# your code goes here \n",
    "\n"
   ]
  },
  {
   "cell_type": "markdown",
   "metadata": {},
   "source": [
    "<div class=\"alert alert-info\">\n",
    "<em>Advanced assignment :</em>\n",
    "    \n",
    "Check more carefully whether all time intervals are equal by plotting the histogram of all intervals using the matplotlib `hist()` function. Another way to test would be the numpy `unique()` function. Check online how to use it (use the `return_counts=True` input argument).     \n",
    "What do you see? Why? \n",
    "</div>"
   ]
  },
  {
   "cell_type": "code",
   "execution_count": 1,
   "metadata": {},
   "outputs": [],
   "source": [
    "# your code goes here \n",
    "\n"
   ]
  },
  {
   "cell_type": "markdown",
   "metadata": {},
   "source": [
    "<div class=\"alert alert-info\">\n",
    "<em>Advanced assignment :</em>\n",
    "    \n",
    "Perform the `np.diff()` operation on the data (and not the time) and plot it as a function of time. What does this quantity correspond to mathematically? \n",
    "</div>"
   ]
  },
  {
   "cell_type": "code",
   "execution_count": 3,
   "metadata": {},
   "outputs": [],
   "source": [
    "# your code goes here \n",
    "\n"
   ]
  },
  {
   "cell_type": "markdown",
   "metadata": {},
   "source": [
    "#### Plot histogram of the data \n",
    "\n",
    "Let's learn about the distribution of the recorded data by using the histogram function (`hist`) from `matplotlib.pyplot`. \n",
    "\n",
    "- Plot the histogram of the data using different bin sizes. Use the matplotlib hist function `plt.hist([data],bins=[number of bins])`. Start using `bins=10` and increase that value to see what happens. \n",
    "- What can you say about the distribution of the data (e.g. unimodal, bimodal, skewed, ...)? \n",
    "- Calculate the ***median*** as well as the following percentils: ***5th, 25th, 50th, 75th and 95th***. You can use the `numpy` median and percential functions `np.median()` and `np.percentile([data],[percentile])`."
   ]
  },
  {
   "cell_type": "code",
   "execution_count": 4,
   "metadata": {},
   "outputs": [],
   "source": [
    "# your code goes here\n",
    "\n"
   ]
  },
  {
   "cell_type": "markdown",
   "metadata": {},
   "source": [
    "<div class=\"alert alert-info\">\n",
    "<em>Advanced assignment :</em>\n",
    "    \n",
    "Try to implement the computation of the individual percentils in a loop. The percentile for one value is compute at each iteration of the loop. \n",
    "</div>"
   ]
  },
  {
   "cell_type": "code",
   "execution_count": null,
   "metadata": {},
   "outputs": [],
   "source": [
    "# your code goes here\n",
    "\n"
   ]
  },
  {
   "cell_type": "markdown",
   "metadata": {},
   "source": [
    "## Time series with time stamps - using pandas"
   ]
  },
  {
   "cell_type": "markdown",
   "metadata": {},
   "source": [
    "`pandas` provides operations for maniuplating time series in a very efficient way. Let's explore a time series using some of the functions provided by `pandas`.  "
   ]
  },
  {
   "cell_type": "markdown",
   "metadata": {},
   "source": [
    "Note that you need the `time-series2.xlsx` file from the github repository to complete the below exercises.  The file has to be located in the same directory as this notebook."
   ]
  },
  {
   "cell_type": "markdown",
   "metadata": {},
   "source": [
    "#### Load data \n",
    "First we will load the data saved in an excel file using the pandas `read_excel` function."
   ]
  },
  {
   "cell_type": "code",
   "execution_count": 12,
   "metadata": {},
   "outputs": [],
   "source": [
    "import pandas as pd\n",
    "from pandas import ExcelWriter\n",
    "from pandas import ExcelFile\n",
    "\n",
    "data2 = pd.read_excel('time-series2.xls',sheet_name='NZRainfall',index_col='DATE') # load excel spreadsheet\n",
    "data2.index = pd.to_datetime(data2.index) # convert the index column to the date format"
   ]
  },
  {
   "cell_type": "markdown",
   "metadata": {},
   "source": [
    "The data format in which pandas keeps the data is call `DataFrame`. "
   ]
  },
  {
   "cell_type": "markdown",
   "metadata": {},
   "source": [
    "#### Get an idea about the data\n",
    "\n",
    "We already have an idea from the sheetname what the data is about. Let's find out more about the data. \n",
    "\n",
    "- How does that data look like? What information are contained in the data? \n",
    "- What is the interval/sampling frequency of the data? \n",
    "- What are the dimensions of the `DataFrame`? \n",
    "- Get the statistics of the data by using the pandas `[name of the DataFrame].describe()` function. \n",
    "\n",
    "**Hint :** You can simply display the `DataFrame` to the screen, or see the first lines with `data2.head()`. "
   ]
  },
  {
   "cell_type": "code",
   "execution_count": 5,
   "metadata": {},
   "outputs": [],
   "source": [
    "# your code goes here \n"
   ]
  },
  {
   "cell_type": "markdown",
   "metadata": {},
   "source": [
    "The table is 2D array (3 column and 154 rows/entries) of time stamps and rainfall numbers of three towns - Auckland, Christchurch, Wellington - in New Zealand. The rainfall is measured monthly (interval is 1 month) and given for the period from Jan 2000 through Dec 2012. "
   ]
  },
  {
   "cell_type": "markdown",
   "metadata": {},
   "source": [
    "### Plotting and slicing the data \n",
    "\n",
    "`pandas` has a build-in plot function which is called by `[name of the DataFrame].plot()`. \n",
    "\n",
    "- Plot the entire data.\n",
    "- Plot the data for the year 2004.\n",
    "- Plot the data in from the year 2006 through 2011. "
   ]
  },
  {
   "cell_type": "code",
   "execution_count": 12,
   "metadata": {},
   "outputs": [],
   "source": [
    "# your code goes here \n"
   ]
  },
  {
   "cell_type": "code",
   "execution_count": 13,
   "metadata": {},
   "outputs": [],
   "source": [
    "# your code goes here  \n"
   ]
  },
  {
   "cell_type": "code",
   "execution_count": 14,
   "metadata": {},
   "outputs": [],
   "source": [
    "# your code goes here  \n"
   ]
  },
  {
   "cell_type": "markdown",
   "metadata": {},
   "source": [
    "## The end"
   ]
  }
 ],
 "metadata": {
  "kernelspec": {
   "display_name": "Python 3 (ipykernel)",
   "language": "python",
   "name": "python3"
  },
  "language_info": {
   "codemirror_mode": {
    "name": "ipython",
    "version": 3
   },
   "file_extension": ".py",
   "mimetype": "text/x-python",
   "name": "python",
   "nbconvert_exporter": "python",
   "pygments_lexer": "ipython3",
   "version": "3.8.12"
  }
 },
 "nbformat": 4,
 "nbformat_minor": 4
}
