{
 "cells": [
  {
   "cell_type": "markdown",
   "metadata": {
    "cell_id": "313732ca03b1461492674ea1ad1e50e4"
   },
   "source": [
    "# T8 Spiking Networks"
   ]
  },
  {
   "cell_type": "code",
   "execution_count": null,
   "metadata": {
    "cell_id": "0f8c140633a34be58e6469dfbfc9ae7d",
    "execution_millis": 1843,
    "execution_start": 1699607470212,
    "output_cleared": false,
    "source_hash": null
   },
   "outputs": [],
   "source": [
    "# Imports\n",
    "from brian2 import *\n",
    "import numpy as np\n",
    "import matplotlib.pyplot as plt\n",
    "\n",
    "# Switching off Brian's C++ code generation (not useful here)\n",
    "prefs.codegen.target = 'numpy'\n",
    "# some minor plot tweaks\n",
    "plt.rcParams.update({'axes.spines.top': False, 'axes.spines.right': False,\n",
    "                     'lines.linewidth': 2, 'lines.markeredgewidth': 2})"
   ]
  },
  {
   "cell_type": "markdown",
   "metadata": {
    "cell_id": "b20a80b20b3240b0a6d5d2246de5dd29"
   },
   "source": [
    "## Synapses\n",
    "\n",
    "Let's start by looking at the impact of synaptic inputs on a single neuron. The inputs can be excitatory or inhibitory, and are modeled as simple jumps in the post-synaptic membrane potential (\"delta synapses\")."
   ]
  },
  {
   "cell_type": "code",
   "execution_count": null,
   "metadata": {
    "cell_id": "7832637e9c394c928d5ddfb6c5ece34c",
    "deepnote_cell_type": "code",
    "deepnote_to_be_reexecuted": false,
    "execution_millis": 265,
    "execution_start": 1699608607111,
    "source_hash": null
   },
   "outputs": [],
   "source": [
    "# Modelling synaptic inputs in Brian\n",
    "start_scope()\n",
    "\n",
    "# Inputs\n",
    "# TODO\n",
    "\n",
    "C = 200*pF\n",
    "g_L = 10*nS\n",
    "E_L = -60*mV\n",
    "\n",
    "# Neuron\n",
    "neurons = NeuronGroup(1, 'dV/dt = (g_L*(E_L - V))/C : volt (unless refractory)',\n",
    "                      threshold='V > -50*mV', reset='V = -80*mV', refractory=5*ms,\n",
    "                      method='exact')\n",
    "neurons.V = E_L\n",
    "# Synapses\n",
    "# TODO\n",
    "\n",
    "# Recordings\n",
    "state_mon = StateMonitor(neurons, 'V', record=0)\n",
    "spike_mon = SpikeMonitor(neurons)\n",
    "\n",
    "run(100*ms)"
   ]
  },
  {
   "cell_type": "code",
   "execution_count": null,
   "metadata": {
    "cell_id": "aa0f43bc47ac482e8a840469878f340e",
    "deepnote_cell_type": "code",
    "deepnote_to_be_reexecuted": false,
    "execution_millis": 293,
    "execution_start": 1699608611701,
    "output_cleared": false,
    "source_hash": null
   },
   "outputs": [],
   "source": [
    "fig, ax = plt.subplots()\n",
    "ax.plot(state_mon.t/ms, state_mon.V[0]/mV)\n",
    "ax.set(xlabel=\"time (ms)\", ylabel=\"v (mV)\")\n",
    "ax.vlines(spike_mon.t/ms, -50, 0)  # draw spikes on top of the membrane potential\n",
    "ax.set_title(f\"{spike_mon.count[0]} spikes\");\n",
    "plt.show()"
   ]
  },
  {
   "cell_type": "markdown",
   "metadata": {},
   "source": [
    "How can we make things spike without increasing the strength of the synaptic interaction?"
   ]
  },
  {
   "cell_type": "markdown",
   "metadata": {
    "cell_id": "e0cdae7ce1134ce7b3ee5ddf9037f62b",
    "deepnote_cell_type": "markdown"
   },
   "source": [
    "### Random spike trains\n",
    "As a first approximation, we can consider incoming spikes to be random. Each neuron receives many (in the cortex on the order of 10000) synaptic inputs, each of them spiking randomly with a certain rate (here, 10Hz)."
   ]
  },
  {
   "cell_type": "code",
   "execution_count": null,
   "metadata": {
    "cell_id": "0c5df2af9a7a46688625d23d98392582",
    "deepnote_cell_type": "code",
    "deepnote_to_be_reexecuted": false,
    "execution_millis": 406,
    "execution_start": 1699609236651,
    "output_cleared": false,
    "source_hash": null
   },
   "outputs": [],
   "source": [
    "# In Brian, random spikes can be modeled with a PoissonGroup\n",
    "start_scope()\n",
    "\n",
    "# TODO\n",
    "\n",
    "plt.plot(spike_mon.t/ms, spike_mon.i, '|')\n",
    "plt.xlabel(\"time (ms)\");"
   ]
  },
  {
   "cell_type": "markdown",
   "metadata": {},
   "source": [
    "We now inject these random spikes (many of them) into our neuron"
   ]
  },
  {
   "cell_type": "code",
   "execution_count": null,
   "metadata": {
    "cell_id": "2a94d86b7f5049b2b8faa1a324802cc4",
    "deepnote_cell_type": "code",
    "deepnote_to_be_reexecuted": false,
    "execution_millis": 2941,
    "execution_start": 1699609936461,
    "source_hash": null
   },
   "outputs": [],
   "source": [
    "start_scope()\n",
    "\n",
    "# Inputs\n",
    "N_neurons = 10000\n",
    "rate = 10*Hz\n",
    "w_exc = 11*mV/1000\n",
    "\n",
    "# TODO\n",
    "\n",
    "# Neuron\n",
    "C = 200*pF\n",
    "g_L = 10*nS\n",
    "E_L = -60*mV\n",
    "\n",
    "neurons = NeuronGroup(1, 'dV/dt = (g_L*(E_L - V))/C : volt (unless refractory)',\n",
    "                      threshold='V > -50*mV', reset='V = -80*mV', refractory=5*ms,\n",
    "                      method='exact')\n",
    "neurons.V = E_L\n",
    "\n",
    "# Synapses\n",
    "# TODO\n",
    "\n",
    "# Recordings\n",
    "state_mon = StateMonitor(neurons, 'V', record=0)\n",
    "spike_mon = SpikeMonitor(neurons)\n",
    "\n",
    "run(1000*ms)"
   ]
  },
  {
   "cell_type": "code",
   "execution_count": null,
   "metadata": {
    "cell_id": "592b1e20c549449cb722aff3676269e6",
    "deepnote_cell_type": "code",
    "deepnote_to_be_reexecuted": false,
    "execution_millis": 334,
    "execution_start": 1699609939403,
    "output_cleared": false,
    "source_hash": null
   },
   "outputs": [],
   "source": [
    "fig, ax = plt.subplots()\n",
    "ax.plot(state_mon.t/ms, state_mon.V[0]/mV)\n",
    "ax.set(xlabel=\"time (ms)\", ylabel=\"V (mV)\")\n",
    "ax.vlines(spike_mon.t/ms, -50, 0)\n",
    "ax.set_title(f\"{spike_mon.count[0]} spikes\");"
   ]
  },
  {
   "cell_type": "markdown",
   "metadata": {},
   "source": [
    "Summing up this large number of spikes leads to an almost constant input current, which leads to a regular spiking cell. This is not what is observed in real cortical neurons.\n",
    "\n",
    "What is missing from the above model?"
   ]
  },
  {
   "cell_type": "code",
   "execution_count": null,
   "metadata": {},
   "outputs": [],
   "source": []
  },
  {
   "cell_type": "code",
   "execution_count": null,
   "metadata": {},
   "outputs": [],
   "source": [
    "fig, ax = plt.subplots()\n",
    "ax.plot(state_mon.t/ms, state_mon.V[0]/mV)\n",
    "ax.set(xlabel=\"time (ms)\", ylabel=\"V (mV)\")\n",
    "ax.vlines(spike_mon.t/ms, -50, 0)\n",
    "ax.set_title(f\"{spike_mon.count[0]} spikes\");"
   ]
  },
  {
   "cell_type": "markdown",
   "metadata": {
    "cell_id": "3de4af60a0b54bffa2fc1cfb536190ba",
    "deepnote_cell_type": "markdown"
   },
   "source": [
    "## Randomly connected network"
   ]
  },
  {
   "cell_type": "code",
   "execution_count": null,
   "metadata": {
    "cell_id": "616a51a9f4ad45bf91553b123ec2d380",
    "deepnote_cell_type": "code",
    "deepnote_to_be_reexecuted": false,
    "execution_millis": 19,
    "execution_start": 1699610388446,
    "source_hash": null
   },
   "outputs": [],
   "source": [
    "def run_sim(g, nu_ext_relative, N_E=10000, report='text'):\n",
    "    start_scope()\n",
    "    \n",
    "    # network parameters\n",
    "    gamma = 0.25\n",
    "    N_I = int(gamma * N_E)\n",
    "    N = N_E + N_I\n",
    "    epsilon = 0.1\n",
    "    C_E = C_ext = int(epsilon * N_E)\n",
    "    C_I = int(epsilon * N_I)\n",
    "    # neuron parameters\n",
    "    tau = 20 * ms; theta = 20 * mV; V_r = 10 * mV; tau_rp = 2 * ms\n",
    "\n",
    "    # synapse parameters\n",
    "    J = 0.1 * mV; D = 1.5 * ms\n",
    "\n",
    "    # external stimulus\n",
    "    nu_thr = theta / (J * C_ext * tau)\n",
    "\n",
    "    neurons = NeuronGroup(N,\"dv/dt = -v/tau : volt (unless refractory)\",\n",
    "                          threshold=\"v > theta\", reset=\"v = V_r\", refractory=tau_rp, method=\"exact\")\n",
    "\n",
    "    exc_neurons = neurons[:N_E]\n",
    "    inh_neurons = neurons[N_E:]\n",
    "    exc_synapses = Synapses(exc_neurons, neurons, on_pre=\"v += J\", delay=D)\n",
    "    exc_synapses.connect(i=\"k for k in sample(N_E, size=C_E)\")  # Each neuron receives C_E connections\n",
    "    inhib_synapses = Synapses(inh_neurons, neurons, on_pre=\"v += -g*J\", delay=D)\n",
    "    inhib_synapses.connect(i=\"k for k in sample(N_I, size=C_I)\")\n",
    "\n",
    "    nu_ext = nu_ext_relative * nu_thr\n",
    "    # More efficient than simulating all incoming external spikes\n",
    "    external_poisson_input = PoissonInput(target=neurons, target_var=\"v\", N=C_ext, rate=nu_ext, weight=J)\n",
    "\n",
    "    rate_monitor = PopulationRateMonitor(neurons)\n",
    "    exc_monitor = SpikeMonitor(exc_neurons)\n",
    "    inh_monitor = SpikeMonitor(inh_neurons[:50])  # record 50 inhibitory neurons\n",
    "    state_monitor = StateMonitor(exc_neurons, 'v', record=0)  # record membrane potential of one neuron\n",
    "    run(1*second, report=report)\n",
    "    \n",
    "    return {'rate_t': rate_monitor.t, 'rate': rate_monitor.rate,\n",
    "            'exc_spikes_t': exc_monitor.t, 'exc_spikes_i': exc_monitor.i,\n",
    "            'inh_spikes_t': inh_monitor.t, 'inh_spikes_i': inh_monitor.i,\n",
    "            'state_t': state_monitor.t, 'state_v': state_monitor.v[0]}"
   ]
  },
  {
   "cell_type": "code",
   "execution_count": null,
   "metadata": {
    "cell_id": "3e1250aa9fc94ae9be980e9c8c390c18",
    "deepnote_app_is_code_hidden": true,
    "deepnote_cell_type": "code",
    "deepnote_to_be_reexecuted": false,
    "execution_millis": 43,
    "execution_start": 1699610410830,
    "is_code_hidden": true,
    "source_hash": null
   },
   "outputs": [],
   "source": [
    "def plot_results(results, title=None):\n",
    "    from matplotlib.gridspec import GridSpec\n",
    "    fig = plt.figure(figsize=(10, 10))\n",
    "    gs = GridSpec(4, 2, figure=fig)\n",
    "    # Create the following subplot mosaic (without using the recent subplot_mosaic function)\n",
    "    # AC\n",
    "    # AF\n",
    "    # DG\n",
    "    # BH\n",
    "    axs = {'A': fig.add_subplot(gs[0:2, 0]),\n",
    "           'B': fig.add_subplot(gs[3, 0]),\n",
    "           'C': fig.add_subplot(gs[0, 1]),\n",
    "           'D': fig.add_subplot(gs[2, 0]),\n",
    "           'F': fig.add_subplot(gs[1, 1]),\n",
    "           'G': fig.add_subplot(gs[2, 1]),\n",
    "           'H': fig.add_subplot(gs[3, 1])}\n",
    "    axs['A'].plot(results['exc_spikes_t'][results['exc_spikes_i']<50]/ms,\n",
    "                  results['exc_spikes_i'][results['exc_spikes_i']<50], '|')\n",
    "    axs['A'].plot(results['inh_spikes_t']/ms,\n",
    "                  -50 + results['inh_spikes_i'], '|', color='darkred')\n",
    "    axs['A'].set(xlim=(800, 990), xticks=[])\n",
    "    axs['B'].plot(results['rate_t']/ms, results['rate']/Hz)\n",
    "    axs['B'].set(xlim=(800, 990), xlabel='t (ms)', ylabel='rate (1/second)')\n",
    "    # Calculate CV and rate for 1000 neurons:\n",
    "    CVs = np.empty(1000); rates = np.empty(1000)\n",
    "    for idx in range(1000):\n",
    "        if (any(results['exc_spikes_i'] == idx)):\n",
    "            ISIs = np.diff(results['exc_spikes_t'][results['exc_spikes_i'] == idx]/ms)\n",
    "            if len(ISIs):\n",
    "                CVs[idx] = np.std(ISIs)/np.mean(ISIs)\n",
    "                rates[idx] = 1000*1/np.mean(ISIs)  # rate estimated as inverse of mean ISI\n",
    "            else:\n",
    "                CVs[idx] = np.nan\n",
    "                rates[idx] = np.nan\n",
    "        else:\n",
    "            CVs[idx] = np.nan\n",
    "            rates[idx] = np.nan\n",
    "    # ISI distribution for neuron 0   \n",
    "    ISIs = np.diff(results['exc_spikes_t'][results['exc_spikes_i'] == 0]/ms)\n",
    "    axs['C'].hist(ISIs, bins=np.linspace(0, 50, 25))    \n",
    "    axs['C'].text(0.95, 0.95,\n",
    "                  f'ISI distribution for example neuron\\nfiring rate: {rates[idx]:.1f}/s\\nCV: {CVs[idx]:.2f}''',\n",
    "                  horizontalalignment='right', verticalalignment='top',\n",
    "                  transform=axs['C'].transAxes)\n",
    "    # Membrane potential for neuron 0\n",
    "    axs['D'].plot(results['state_t']/ms, results['state_v']/mV)\n",
    "    axs['D'].vlines(results['exc_spikes_t'][results['exc_spikes_i'] == 0]/ms, 20, 40)\n",
    "    axs['D'].set(xlabel='t (ms)', ylabel='v (mV)', xlim=(800, 990))\n",
    "    # Rate distribution\n",
    "    axs['F'].hist(rates, bins=np.linspace(0, 500, 50))\n",
    "    axs['F'].text(0.95, 0.95, 'rate distribution',\n",
    "                  horizontalalignment='right', verticalalignment='top',\n",
    "                  transform=axs['F'].transAxes)\n",
    "    # CV distribution\n",
    "    axs['G'].hist(CVs, bins=np.linspace(0, 1, 25))\n",
    "    axs['G'].text(0.95, 0.95, 'CV distribution',\n",
    "                  horizontalalignment='right', verticalalignment='top',\n",
    "                  transform=axs['G'].transAxes)\n",
    "    # Autocorrelation of rate\n",
    "    autocorr = np.correlate(results['rate'], results['rate'], mode='full')\n",
    "    autocorr = autocorr[len(autocorr)//2:]\n",
    "    autocorr /= autocorr[0]\n",
    "    axs['H'].plot(results['rate_t']/ms, autocorr)\n",
    "    axs['H'].text(0.95, 0.95, 'rate autocorrelation',\n",
    "                  horizontalalignment='right', verticalalignment='top',\n",
    "                  transform=axs['H'].transAxes)\n",
    "    axs['H'].set(xlabel='t (ms)', xlim=(0, 100), ylim=(0, 1))\n",
    "    if title:\n",
    "        fig.suptitle(title)"
   ]
  },
  {
   "cell_type": "code",
   "execution_count": null,
   "metadata": {
    "cell_id": "3c17be667afc4ad7b22614666ab1e9c4",
    "deepnote_cell_type": "code",
    "deepnote_to_be_reexecuted": false,
    "execution_millis": 5140,
    "execution_start": 1699610412763,
    "source_hash": null
   },
   "outputs": [],
   "source": [
    "results = run_sim(5.5, 2, N_E=1000)  # small test\n",
    "plot_results(results)"
   ]
  },
  {
   "cell_type": "markdown",
   "metadata": {
    "cell_id": "57c88e3f3dae4524a82c59c22769f7d0",
    "deepnote_cell_type": "markdown"
   },
   "source": [
    "## Appendix: synapse models\n",
    "\n",
    "Different synaptic models: \"delta synapses\", current-based and conductance-based (see lecture)"
   ]
  },
  {
   "cell_type": "code",
   "execution_count": null,
   "metadata": {
    "cell_id": "cf5a88a1cd1940e2ac5a238207511438",
    "deepnote_cell_type": "code",
    "deepnote_to_be_reexecuted": true,
    "source_hash": null
   },
   "outputs": [],
   "source": [
    "def simulate_synapses(exc_spikes, inh_spikes, synapses='delta'):\n",
    "    start_scope()\n",
    "    E_e = 70*mV; E_i = -10*mV\n",
    "    if synapses == 'delta':\n",
    "        eqs = \"dv/dt = -v/(10*ms) : volt (unless refractory)\"\n",
    "        method = 'exact'\n",
    "    elif synapses == 'current':\n",
    "        eqs = '''dv/dt = (-v + I_e + I_i)/(10*ms) : volt (unless refractory)\n",
    "                 dI_e/dt = -I_e/(5*ms) : volt\n",
    "                 dI_i/dt = -I_i/(5*ms) : volt'''\n",
    "        method = 'exact'\n",
    "    elif synapses == 'conductance':\n",
    "        eqs = '''dv/dt = (-v + g_e*(E_e - v) + g_i*(E_i - v))/(10*ms) : volt (unless refractory)\n",
    "                 dg_e/dt = -g_e/(5*ms) : 1\n",
    "                 dg_i/dt = -g_i/(5*ms) : 1'''\n",
    "        method = 'euler'\n",
    "    neurons = NeuronGroup(1, eqs, threshold='v > 10*mV',\n",
    "                          reset='v = 0*mV', refractory=2*ms, method=method)\n",
    "    exc_inp = SpikeGeneratorGroup(1, np.zeros(len(exc_spikes)), exc_spikes)\n",
    "    inh_inp = SpikeGeneratorGroup(1, np.zeros(len(inh_spikes)), inh_spikes)\n",
    "    if synapses == 'delta':\n",
    "        exc_syn = Synapses(exc_inp, neurons, on_pre='v_post += 7*mV')\n",
    "        inh_syn = Synapses(inh_inp, neurons, on_pre='v_post -= 7*mV')\n",
    "    elif synapses == 'current':\n",
    "        exc_syn = Synapses(exc_inp, neurons, on_pre='I_e += 25*mV')\n",
    "        inh_syn = Synapses(inh_inp, neurons, on_pre='I_i -= 27*mV')\n",
    "    elif synapses == 'conductance':\n",
    "        exc_syn = Synapses(exc_inp, neurons, on_pre='g_e += 0.4')\n",
    "        inh_syn = Synapses(inh_inp, neurons, on_pre='g_i += 1.6')\n",
    "    exc_syn.connect(); inh_syn.connect()\n",
    "    state_mon = StateMonitor(neurons, 'v', record=0)\n",
    "    spike_mon = SpikeMonitor(neurons)\n",
    "    run(200*ms)\n",
    "    return state_mon.t, state_mon.v[0], spike_mon.t\n",
    "\n",
    "def plot_synapses_sim(exc_spikes, inh_spikes, mon_t, mon_v, spikes):\n",
    "    fig, axs = plt.subplots(3, 1, sharex=True, figsize=(12, 3),\n",
    "                           gridspec_kw={'height_ratios': (1, 2, 1)})\n",
    "    axs[0].eventplot(exc_spikes/ms, color='red')\n",
    "    axs[0].axis('off')\n",
    "    axs[1].plot(mon_t/ms, mon_v/mV, color='black')\n",
    "    axs[1].vlines(spikes/ms, 10, 30, color='black')\n",
    "    axs[1].axhline(color='gray', linestyle=':', zorder=-1)\n",
    "    axs[1].axhline(10, color='gray', linestyle='--', zorder=-1)\n",
    "    axs[1].set(xlabel='t (ms)', ylabel='v (mV)', ylim=(-10, 30))\n",
    "    axs[2].eventplot(inh_spikes/ms, color='blue')\n",
    "    axs[2].axis('off')"
   ]
  },
  {
   "cell_type": "code",
   "execution_count": null,
   "metadata": {
    "cell_id": "d6340186cadf44949b6afc776095c494",
    "deepnote_cell_type": "code",
    "deepnote_to_be_reexecuted": true,
    "source_hash": null
   },
   "outputs": [],
   "source": [
    "exc_spikes = [10, 50, 55, 105, 110, 150]*ms\n",
    "inh_spikes = [75, 95, 150, 160]*ms\n",
    "mon_t, mon_v, spikes = simulate_synapses(exc_spikes, inh_spikes, synapses='delta')"
   ]
  },
  {
   "cell_type": "code",
   "execution_count": null,
   "metadata": {
    "cell_id": "694027b6e666449797863f86ce9f5395",
    "deepnote_cell_type": "code",
    "deepnote_to_be_reexecuted": true,
    "source_hash": null
   },
   "outputs": [],
   "source": [
    "plot_synapses_sim(exc_spikes, inh_spikes, mon_t, mon_v, spikes)"
   ]
  }
 ],
 "metadata": {
  "kernelspec": {
   "display_name": "Python 3 (ipykernel)",
   "language": "python",
   "name": "python3"
  },
  "language_info": {
   "codemirror_mode": {
    "name": "ipython",
    "version": 3
   },
   "file_extension": ".py",
   "mimetype": "text/x-python",
   "name": "python",
   "nbconvert_exporter": "python",
   "pygments_lexer": "ipython3",
   "version": "3.11.7"
  }
 },
 "nbformat": 4,
 "nbformat_minor": 4
}
